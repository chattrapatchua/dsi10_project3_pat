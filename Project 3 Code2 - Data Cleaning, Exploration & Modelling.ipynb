{
 "cells": [
  {
   "cell_type": "code",
   "execution_count": 1,
   "metadata": {},
   "outputs": [
    {
     "name": "stdout",
     "output_type": "stream",
     "text": [
      "Requirement already satisfied: wordcloud in c:\\users\\pat\\anaconda3\\lib\\site-packages (1.5.0)\n",
      "Requirement already satisfied: pillow in c:\\users\\pat\\anaconda3\\lib\\site-packages (from wordcloud) (6.1.0)\n",
      "Requirement already satisfied: numpy>=1.6.1 in c:\\users\\pat\\anaconda3\\lib\\site-packages (from wordcloud) (1.16.4)\n"
     ]
    }
   ],
   "source": [
    "!pip install wordcloud"
   ]
  },
  {
   "cell_type": "code",
   "execution_count": 2,
   "metadata": {},
   "outputs": [
    {
     "name": "stdout",
     "output_type": "stream",
     "text": [
      "Requirement already satisfied: regex in c:\\users\\pat\\anaconda3\\lib\\site-packages (2019.8.19)\n"
     ]
    }
   ],
   "source": [
    "!pip install regex"
   ]
  },
  {
   "cell_type": "code",
   "execution_count": 3,
   "metadata": {},
   "outputs": [
    {
     "name": "stderr",
     "output_type": "stream",
     "text": [
      "C:\\Users\\Pat\\Anaconda3\\lib\\site-packages\\sklearn\\externals\\joblib\\__init__.py:15: DeprecationWarning: sklearn.externals.joblib is deprecated in 0.21 and will be removed in 0.23. Please import this functionality directly from joblib, which can be installed with: pip install joblib. If this warning is raised when loading pickled models, you may need to re-serialize those models with scikit-learn 0.21+.\n",
      "  warnings.warn(msg, category=DeprecationWarning)\n"
     ]
    }
   ],
   "source": [
    "# Import libraries\n",
    "import pandas as pd\n",
    "\n",
    "import matplotlib.pyplot as plt\n",
    "import seaborn as sns\n",
    "\n",
    "from sklearn.model_selection import train_test_split, GridSearchCV\n",
    "from sklearn.feature_extraction.text import CountVectorizer, TfidfVectorizer\n",
    "from sklearn.feature_extraction import stop_words\n",
    "from sklearn.pipeline import Pipeline\n",
    "from sklearn.linear_model import LogisticRegression\n",
    "from sklearn.naive_bayes import MultinomialNB\n",
    "from sklearn.externals import joblib\n",
    "from sklearn.metrics import confusion_matrix\n",
    "\n",
    "from bs4 import BeautifulSoup\n",
    "\n",
    "import nltk\n",
    "from nltk.corpus import stopwords\n",
    "from nltk.stem import WordNetLemmatizer\n",
    "\n",
    "import regex as re\n",
    "\n",
    "from wordcloud import WordCloud, STOPWORDS, ImageColorGenerator"
   ]
  },
  {
   "cell_type": "markdown",
   "metadata": {},
   "source": [
    "# Content"
   ]
  },
  {
   "cell_type": "markdown",
   "metadata": {},
   "source": [
    "- [Data Cleaning/Preprocessing and Exploration](#Data-Cleaning/Preprocessing-and-Exploration)\n",
    "- [Modelling](#Modelling)\n",
    "    - [Naive Bayes](#Multi-nomial-Naive-bayes-model)\n",
    "    - [Logistic Regression](#Logistic-regression-model)\n",
    "- [Model selection and Prediction](#Model-Prediction-on-test-dataset)\n",
    "- [Conclusion](#Conclusion)"
   ]
  },
  {
   "cell_type": "markdown",
   "metadata": {},
   "source": [
    "# Data Cleaning/Preprocessing and Exploration"
   ]
  },
  {
   "cell_type": "code",
   "execution_count": 4,
   "metadata": {},
   "outputs": [],
   "source": [
    "df1 = pd.read_csv('./datasets/HFY.csv')\n",
    "df2 = pd.read_csv('./datasets/nosleep.csv')"
   ]
  },
  {
   "cell_type": "code",
   "execution_count": 5,
   "metadata": {},
   "outputs": [],
   "source": [
    "# 'title' column is the title of the subreddit post\n",
    "# 'selftext' column is the content of the post\n",
    "# 'subreddit' column is where the post is from\n",
    "# 'selftext' will be the X variable, whilst 'subreddit' will be used to create the y variable\n",
    "post1 = df1[['title', 'selftext', 'subreddit']]\n",
    "post2 = df2[['title', 'selftext', 'subreddit']]"
   ]
  },
  {
   "cell_type": "code",
   "execution_count": 6,
   "metadata": {},
   "outputs": [],
   "source": [
    "# Create a single dataframe from appending post2 to post1, call it posts\n",
    "posts = post1.append(post2)\n",
    "posts.reset_index(drop=True, inplace=True)"
   ]
  },
  {
   "cell_type": "code",
   "execution_count": 7,
   "metadata": {},
   "outputs": [
    {
     "data": {
      "text/plain": [
       "HFY        1004\n",
       "nosleep     990\n",
       "Name: subreddit, dtype: int64"
      ]
     },
     "execution_count": 7,
     "metadata": {},
     "output_type": "execute_result"
    }
   ],
   "source": [
    "# Check the number of posts from each subreddit\n",
    "posts['subreddit'].value_counts()"
   ]
  },
  {
   "cell_type": "markdown",
   "metadata": {},
   "source": [
    "- The number of posts gained from both subreddits are pretty balanced and in the expected range of posts."
   ]
  },
  {
   "cell_type": "code",
   "execution_count": 8,
   "metadata": {},
   "outputs": [
    {
     "data": {
      "text/plain": [
       "title         0\n",
       "selftext     13\n",
       "subreddit     0\n",
       "dtype: int64"
      ]
     },
     "execution_count": 8,
     "metadata": {},
     "output_type": "execute_result"
    }
   ],
   "source": [
    "# Check for any null values in the posts\n",
    "posts.isnull().sum()"
   ]
  },
  {
   "cell_type": "markdown",
   "metadata": {},
   "source": [
    "- There are 13 posts with NaN values."
   ]
  },
  {
   "cell_type": "code",
   "execution_count": 9,
   "metadata": {},
   "outputs": [
    {
     "data": {
      "text/plain": [
       "0.6519558676028084"
      ]
     },
     "execution_count": 9,
     "metadata": {},
     "output_type": "execute_result"
    }
   ],
   "source": [
    "# Calculate percentage of NaN values in terms of total number of entries for posts\n",
    "(13/1994)*100"
   ]
  },
  {
   "cell_type": "code",
   "execution_count": 10,
   "metadata": {},
   "outputs": [
    {
     "data": {
      "text/html": [
       "<div>\n",
       "<style scoped>\n",
       "    .dataframe tbody tr th:only-of-type {\n",
       "        vertical-align: middle;\n",
       "    }\n",
       "\n",
       "    .dataframe tbody tr th {\n",
       "        vertical-align: top;\n",
       "    }\n",
       "\n",
       "    .dataframe thead th {\n",
       "        text-align: right;\n",
       "    }\n",
       "</style>\n",
       "<table border=\"1\" class=\"dataframe\">\n",
       "  <thead>\n",
       "    <tr style=\"text-align: right;\">\n",
       "      <th></th>\n",
       "      <th>title</th>\n",
       "      <th>selftext</th>\n",
       "      <th>subreddit</th>\n",
       "    </tr>\n",
       "  </thead>\n",
       "  <tbody>\n",
       "    <tr>\n",
       "      <th>190</th>\n",
       "      <td>I'm a bit confused by this sub. I know its sta...</td>\n",
       "      <td>NaN</td>\n",
       "      <td>HFY</td>\n",
       "    </tr>\n",
       "    <tr>\n",
       "      <th>195</th>\n",
       "      <td>LFS Looking for stories about a man and his do...</td>\n",
       "      <td>NaN</td>\n",
       "      <td>HFY</td>\n",
       "    </tr>\n",
       "    <tr>\n",
       "      <th>379</th>\n",
       "      <td>Battleship (2012) is pretty godamn HFY</td>\n",
       "      <td>NaN</td>\n",
       "      <td>HFY</td>\n",
       "    </tr>\n",
       "    <tr>\n",
       "      <th>743</th>\n",
       "      <td>Stories where only humans have fictional world...</td>\n",
       "      <td>NaN</td>\n",
       "      <td>HFY</td>\n",
       "    </tr>\n",
       "    <tr>\n",
       "      <th>755</th>\n",
       "      <td>[Meta] Any stories that are about human kindne...</td>\n",
       "      <td>NaN</td>\n",
       "      <td>HFY</td>\n",
       "    </tr>\n",
       "    <tr>\n",
       "      <th>784</th>\n",
       "      <td>Just read True Human Rage, and that other depr...</td>\n",
       "      <td>NaN</td>\n",
       "      <td>HFY</td>\n",
       "    </tr>\n",
       "    <tr>\n",
       "      <th>805</th>\n",
       "      <td>Where's the writing prompt contest?</td>\n",
       "      <td>NaN</td>\n",
       "      <td>HFY</td>\n",
       "    </tr>\n",
       "    <tr>\n",
       "      <th>824</th>\n",
       "      <td>[LFS] Stories where spacefaring OC crash lands...</td>\n",
       "      <td>NaN</td>\n",
       "      <td>HFY</td>\n",
       "    </tr>\n",
       "    <tr>\n",
       "      <th>1004</th>\n",
       "      <td>Spooktober! 31 Days of Horror Nosleep Event</td>\n",
       "      <td>NaN</td>\n",
       "      <td>nosleep</td>\n",
       "    </tr>\n",
       "    <tr>\n",
       "      <th>1005</th>\n",
       "      <td>August 2019 Voting Thread</td>\n",
       "      <td>NaN</td>\n",
       "      <td>nosleep</td>\n",
       "    </tr>\n",
       "    <tr>\n",
       "      <th>1682</th>\n",
       "      <td>July contest winners!</td>\n",
       "      <td>NaN</td>\n",
       "      <td>nosleep</td>\n",
       "    </tr>\n",
       "    <tr>\n",
       "      <th>1817</th>\n",
       "      <td>Spooktober! 31 Days of Horror Nosleep Event</td>\n",
       "      <td>NaN</td>\n",
       "      <td>nosleep</td>\n",
       "    </tr>\n",
       "    <tr>\n",
       "      <th>1818</th>\n",
       "      <td>August 2019 Voting Thread</td>\n",
       "      <td>NaN</td>\n",
       "      <td>nosleep</td>\n",
       "    </tr>\n",
       "  </tbody>\n",
       "</table>\n",
       "</div>"
      ],
      "text/plain": [
       "                                                  title selftext subreddit\n",
       "190   I'm a bit confused by this sub. I know its sta...      NaN       HFY\n",
       "195   LFS Looking for stories about a man and his do...      NaN       HFY\n",
       "379              Battleship (2012) is pretty godamn HFY      NaN       HFY\n",
       "743   Stories where only humans have fictional world...      NaN       HFY\n",
       "755   [Meta] Any stories that are about human kindne...      NaN       HFY\n",
       "784   Just read True Human Rage, and that other depr...      NaN       HFY\n",
       "805                 Where's the writing prompt contest?      NaN       HFY\n",
       "824   [LFS] Stories where spacefaring OC crash lands...      NaN       HFY\n",
       "1004        Spooktober! 31 Days of Horror Nosleep Event      NaN   nosleep\n",
       "1005                          August 2019 Voting Thread      NaN   nosleep\n",
       "1682                              July contest winners!      NaN   nosleep\n",
       "1817        Spooktober! 31 Days of Horror Nosleep Event      NaN   nosleep\n",
       "1818                          August 2019 Voting Thread      NaN   nosleep"
      ]
     },
     "execution_count": 10,
     "metadata": {},
     "output_type": "execute_result"
    }
   ],
   "source": [
    "# Check which subreddits the NaN posts are from\n",
    "posts[posts['selftext'].isnull() == True]"
   ]
  },
  {
   "cell_type": "markdown",
   "metadata": {},
   "source": [
    "- Since the number of posts that are null values is relatively low, only 0.65% of the total number of posts\n",
    "- And there seems to be a roughly equivalent amount of null values from each subreddit\n",
    "- And also because a guess at the content of the post would not be reasonably accurate\n",
    "- It is judged to be acceptable to just drop the rows"
   ]
  },
  {
   "cell_type": "code",
   "execution_count": 11,
   "metadata": {},
   "outputs": [],
   "source": [
    "# Drop rows with NaN \n",
    "posts.dropna(inplace=True)"
   ]
  },
  {
   "cell_type": "code",
   "execution_count": 12,
   "metadata": {},
   "outputs": [
    {
     "data": {
      "text/plain": [
       "HFY        996\n",
       "nosleep    985\n",
       "Name: subreddit, dtype: int64"
      ]
     },
     "execution_count": 12,
     "metadata": {},
     "output_type": "execute_result"
    }
   ],
   "source": [
    "# Re-check the number of posts from each subreddit\n",
    "posts['subreddit'].value_counts()"
   ]
  },
  {
   "cell_type": "markdown",
   "metadata": {},
   "source": [
    "- The amount of posts is still roughly the same."
   ]
  },
  {
   "cell_type": "code",
   "execution_count": 13,
   "metadata": {},
   "outputs": [
    {
     "data": {
      "text/plain": [
       "HFY        177\n",
       "nosleep    176\n",
       "Name: subreddit, dtype: int64"
      ]
     },
     "execution_count": 13,
     "metadata": {},
     "output_type": "execute_result"
    }
   ],
   "source": [
    "# Check for duplicates and see the distribution of duplicate posts across the 2 subreddits\n",
    "posts[posts['selftext'].duplicated()]['subreddit'].value_counts()"
   ]
  },
  {
   "cell_type": "markdown",
   "metadata": {},
   "source": [
    "- There seems to be quite a large amount of duplicates\n",
    "- This is because the subreddits (at the time of scraping), had less than 1000 posts. Hitting the reddit API after the last post had been scraped caused the API to start since the beginning again."
   ]
  },
  {
   "cell_type": "code",
   "execution_count": 14,
   "metadata": {},
   "outputs": [],
   "source": [
    "# Drop the duplicate posts\n",
    "# Pretty much the same number of posts will be dropped\n",
    "# After dropping, there will still be enough posts to use for classification\n",
    "posts.drop_duplicates(subset='selftext', inplace=True)"
   ]
  },
  {
   "cell_type": "code",
   "execution_count": 15,
   "metadata": {},
   "outputs": [
    {
     "data": {
      "text/plain": [
       "HFY        819\n",
       "nosleep    809\n",
       "Name: subreddit, dtype: int64"
      ]
     },
     "execution_count": 15,
     "metadata": {},
     "output_type": "execute_result"
    }
   ],
   "source": [
    "posts['subreddit'].value_counts()"
   ]
  },
  {
   "cell_type": "markdown",
   "metadata": {},
   "source": [
    "- There is still a sufficiently large number of posts in which to use for modelling."
   ]
  },
  {
   "cell_type": "code",
   "execution_count": 16,
   "metadata": {},
   "outputs": [],
   "source": [
    "# Create target column\n",
    "# 0 is r/HFY, 1 is r/nosleep\n",
    "posts['nosleep'] = posts['subreddit'].map(lambda x: 1 if x == 'nosleep' else 0)"
   ]
  },
  {
   "cell_type": "code",
   "execution_count": 17,
   "metadata": {},
   "outputs": [
    {
     "data": {
      "text/html": [
       "<div>\n",
       "<style scoped>\n",
       "    .dataframe tbody tr th:only-of-type {\n",
       "        vertical-align: middle;\n",
       "    }\n",
       "\n",
       "    .dataframe tbody tr th {\n",
       "        vertical-align: top;\n",
       "    }\n",
       "\n",
       "    .dataframe thead th {\n",
       "        text-align: right;\n",
       "    }\n",
       "</style>\n",
       "<table border=\"1\" class=\"dataframe\">\n",
       "  <thead>\n",
       "    <tr style=\"text-align: right;\">\n",
       "      <th></th>\n",
       "      <th>title</th>\n",
       "      <th>selftext</th>\n",
       "      <th>subreddit</th>\n",
       "      <th>nosleep</th>\n",
       "    </tr>\n",
       "  </thead>\n",
       "  <tbody>\n",
       "    <tr>\n",
       "      <th>0</th>\n",
       "      <td>End Of Month September 2019</td>\n",
       "      <td>Well the old homestead was a nice place till w...</td>\n",
       "      <td>HFY</td>\n",
       "      <td>0</td>\n",
       "    </tr>\n",
       "    <tr>\n",
       "      <th>1</th>\n",
       "      <td>October MWC: [Hallows 6] Update 1!</td>\n",
       "      <td>Did you hear that!?!?! I think it was the soun...</td>\n",
       "      <td>HFY</td>\n",
       "      <td>0</td>\n",
       "    </tr>\n",
       "    <tr>\n",
       "      <th>2</th>\n",
       "      <td>The Lies of Humanity</td>\n",
       "      <td>“Humans are a race of liars,” Tsah slurred lou...</td>\n",
       "      <td>HFY</td>\n",
       "      <td>0</td>\n",
       "    </tr>\n",
       "    <tr>\n",
       "      <th>3</th>\n",
       "      <td>Supervillainy and Other Poor Career Choices - ...</td>\n",
       "      <td>\\n\\n“You sold our friend into slavery!?”\\n\\nE...</td>\n",
       "      <td>HFY</td>\n",
       "      <td>0</td>\n",
       "    </tr>\n",
       "    <tr>\n",
       "      <th>4</th>\n",
       "      <td>[PI] The first alien transmission Earth receiv...</td>\n",
       "      <td>In the year 2025 mankind had intercepted the f...</td>\n",
       "      <td>HFY</td>\n",
       "      <td>0</td>\n",
       "    </tr>\n",
       "  </tbody>\n",
       "</table>\n",
       "</div>"
      ],
      "text/plain": [
       "                                               title  \\\n",
       "0                        End Of Month September 2019   \n",
       "1                 October MWC: [Hallows 6] Update 1!   \n",
       "2                               The Lies of Humanity   \n",
       "3  Supervillainy and Other Poor Career Choices - ...   \n",
       "4  [PI] The first alien transmission Earth receiv...   \n",
       "\n",
       "                                            selftext subreddit  nosleep  \n",
       "0  Well the old homestead was a nice place till w...       HFY        0  \n",
       "1  Did you hear that!?!?! I think it was the soun...       HFY        0  \n",
       "2  “Humans are a race of liars,” Tsah slurred lou...       HFY        0  \n",
       "3   \\n\\n“You sold our friend into slavery!?”\\n\\nE...       HFY        0  \n",
       "4  In the year 2025 mankind had intercepted the f...       HFY        0  "
      ]
     },
     "execution_count": 17,
     "metadata": {},
     "output_type": "execute_result"
    }
   ],
   "source": [
    "posts.head()"
   ]
  },
  {
   "cell_type": "code",
   "execution_count": 18,
   "metadata": {},
   "outputs": [],
   "source": [
    "# Split the posts dataset into a train and test dataset\n",
    "# The test dataset will be untouched until the model is used to make predictions.\n",
    "train, test = train_test_split(posts, test_size=0.25, random_state=55, stratify = posts['nosleep'])"
   ]
  },
  {
   "cell_type": "code",
   "execution_count": 19,
   "metadata": {},
   "outputs": [
    {
     "data": {
      "text/plain": [
       "(1221, 4)"
      ]
     },
     "execution_count": 19,
     "metadata": {},
     "output_type": "execute_result"
    }
   ],
   "source": [
    "train.shape"
   ]
  },
  {
   "cell_type": "code",
   "execution_count": 20,
   "metadata": {},
   "outputs": [
    {
     "data": {
      "text/plain": [
       "(407, 4)"
      ]
     },
     "execution_count": 20,
     "metadata": {},
     "output_type": "execute_result"
    }
   ],
   "source": [
    "test.shape"
   ]
  },
  {
   "cell_type": "code",
   "execution_count": 21,
   "metadata": {},
   "outputs": [],
   "source": [
    "# Create X and y variables\n",
    "# It was decided that the title would not be used as a predictor variable as some titles are dead giveaways for the subreddit\n",
    "X = train['selftext']\n",
    "y = train['nosleep']"
   ]
  },
  {
   "cell_type": "code",
   "execution_count": 22,
   "metadata": {},
   "outputs": [],
   "source": [
    "# Create training and testing sets from the train dataset\n",
    "X_training, X_testing, y_training, y_testing = train_test_split(X, y, stratify=y, test_size=0.25, random_state=55)"
   ]
  },
  {
   "cell_type": "code",
   "execution_count": 23,
   "metadata": {},
   "outputs": [],
   "source": [
    "# Reset the index of each dataframe\n",
    "X_training.reset_index(drop=True, inplace=True)\n",
    "X_testing.reset_index(drop=True, inplace=True)\n",
    "y_training.reset_index(drop=True, inplace=True)\n",
    "y_testing.reset_index(drop=True, inplace=True)\n",
    "test.reset_index(drop=True, inplace=True)"
   ]
  },
  {
   "cell_type": "code",
   "execution_count": 24,
   "metadata": {},
   "outputs": [
    {
     "name": "stdout",
     "output_type": "stream",
     "text": [
      "frozenset({'fifty', 'yourselves', 'as', 'few', 'around', 'must', 'was', 'sometimes', 'back', 'last', 'do', 'seem', 'never', 'hereafter', 'these', 'any', 'the', 'why', 'anyhow', 'fifteen', 'nobody', 'three', 'will', 'over', 're', 'whatever', 'please', 'move', 'who', 'am', 'before', 'six', 'whole', 'whoever', 'whenever', 'at', 'could', 'both', 'because', 'has', 'if', 'twenty', 'under', 'nine', 'system', 'same', 'while', 'either', 'yet', 'where', 'hence', 'than', 'an', 'two', 'me', 'to', 'above', 'other', 'this', 'whether', 'nor', 'describe', 'so', 'then', 'most', 'full', 'least', 'that', 'by', 'neither', 'his', 'what', 'behind', 'your', 'therein', 'towards', 'nothing', 'hereupon', 'beforehand', 'everyone', 'ourselves', 'rather', 'now', 'get', 'whereas', 'across', 'whereupon', 'itself', 'is', 'found', 'might', 'amoungst', 'be', 'those', 'seeming', 'co', 'would', 'with', 'take', 'along', 'empty', 'onto', 'became', 'show', 'eleven', 'whereby', 'less', 'up', 'although', 'interest', 'therefore', 'otherwise', 'again', 'something', 'thick', 'third', 'whom', 'he', 'ie', 'she', 'our', 'her', 'us', 'first', 'are', 'indeed', 'give', 'well', 'bill', 'enough', 'everywhere', 'but', 'we', 'of', 'own', 'whose', 'it', 'after', 'con', 'front', 'sixty', 'until', 'amount', 'himself', 'fire', 'somewhere', 'cannot', 'another', 'though', 'between', 'put', 'have', 'sincere', 'each', 'five', 'nowhere', 'done', 'call', 'find', 'herein', 'latter', 'whither', 'de', 'themselves', 'due', 'mill', 'meanwhile', 'here', 'anyway', 'per', 'inc', 'only', 'thereby', 'myself', 'more', 'thence', 'once', 'ten', 'whereafter', 'hasnt', 'had', 'toward', 'wherein', 'everything', 'still', 'elsewhere', 'cry', 'eight', 'they', 'since', 'into', 'often', 'their', 'un', 'been', 'even', 'further', 'noone', 'amongst', 'my', 'anyone', 'none', 'etc', 'not', 'serious', 'side', 'against', 'also', 'about', 'wherever', 'forty', 'mostly', 'however', 'others', 'and', 'hereby', 'ltd', 'beyond', 'thru', 'four', 'many', 'mine', 'a', 'thereupon', 'afterwards', 'i', 'twelve', 'couldnt', 'bottom', 'for', 'there', 'or', 'during', 'some', 'you', 'when', 'always', 'very', 'how', 'become', 'beside', 'hundred', 'all', 'one', 'top', 'off', 'becoming', 'else', 'besides', 'except', 'next', 'eg', 'should', 'made', 'namely', 'hers', 'seems', 'which', 'perhaps', 'whence', 'nevertheless', 'them', 'throughout', 'herself', 'alone', 'among', 'below', 'moreover', 'without', 'former', 'anywhere', 'latterly', 'several', 'together', 'ours', 'someone', 'already', 'see', 'much', 'too', 'seemed', 'somehow', 'detail', 'him', 'can', 'name', 'from', 'yours', 'thereafter', 'keep', 'being', 'almost', 'no', 'part', 'may', 'within', 'upon', 'through', 'on', 'sometime', 'such', 'were', 'thin', 'cant', 'every', 'thus', 'becomes', 'in', 'down', 'fill', 'anything', 'formerly', 'its', 'go', 'via', 'yourself', 'ever', 'out'})\n"
     ]
    }
   ],
   "source": [
    "print(stop_words.ENGLISH_STOP_WORDS)"
   ]
  },
  {
   "cell_type": "code",
   "execution_count": 25,
   "metadata": {},
   "outputs": [],
   "source": [
    "# Define a fn to clean individual posts \n",
    "def clean_post(post):\n",
    "    post_txt = BeautifulSoup(post).get_text()\n",
    "    # Define regex pattern to replace all 'r/' (indicating the subreddit), urls, \n",
    "    # any non-alphabet characters, and any words giving away the subreddit (hfy/nosleep), with a space\n",
    "    letters_only = re.sub(\"(r\\/)|((https:\\/\\/|http:\\/\\/|www.)[\\w.\\/\\?\\=\\w]*)|[^a-zA-Z]|(hfy|nosleep)\", \" \", post_txt)\n",
    "    \n",
    "    # Tokenize the post, return individual words as a list\n",
    "    words = letters_only.lower().split()\n",
    "    \n",
    "    # remove stopwords\n",
    "    stops = set(stop_words.ENGLISH_STOP_WORDS)\n",
    "    meaningful_words = [word for word in words if word not in stops]\n",
    "    \n",
    "    # Lemmatize the words in the token list\n",
    "    # Lemmatization chosen over stemming as short stories may use wider variety of words which stemming might incorrectly overstem\n",
    "    # Thus, a lot of information would be lost\n",
    "    lemmatizer = WordNetLemmatizer()\n",
    "    lem_words = [lemmatizer.lemmatize(i) for i in meaningful_words]\n",
    "    \n",
    "    # join the meaningful words\n",
    "    cleaned_post = \" \".join(lem_words)\n",
    "    \n",
    "    return cleaned_post\n"
   ]
  },
  {
   "cell_type": "code",
   "execution_count": 26,
   "metadata": {},
   "outputs": [],
   "source": [
    "# Define a fn which will call the fn clean_post() for all posts in the dataframe\n",
    "def cleaned_posts(X = X_training):\n",
    "    cleaned_posts = []\n",
    "    for i, v in enumerate(X):\n",
    "        cleaned_posts.append(clean_post(X[i]))\n",
    "    \n",
    "    return cleaned_posts"
   ]
  },
  {
   "cell_type": "code",
   "execution_count": 27,
   "metadata": {},
   "outputs": [
    {
     "name": "stdout",
     "output_type": "stream",
     "text": [
      "There are 915 posts in X_training_cleaned\n"
     ]
    }
   ],
   "source": [
    "X_training_cleaned = cleaned_posts(X_training)\n",
    "print(f'There are {len(X_training_cleaned)} posts in X_training_cleaned')"
   ]
  },
  {
   "cell_type": "code",
   "execution_count": 28,
   "metadata": {},
   "outputs": [
    {
     "data": {
      "text/plain": [
       "['asked mama care smiled love love wasn t thunderstorm erased stupid wall painting bent basketball hoop torn net rusted saw left small playground sat amidst cracked tile small hall used lay mattress seventeen singing song just sipping warm bowl soup huddled mama s story saw mama frail forth favorite chair realized time take nia new baby cry sheet wet sweat couldn t roll lift head fuck s sake mama heard cry started chorus scream chipped wooden crib mama heard got auburn way running stomach swollen cradled nia arm rocking gently jon mind whispered went kitchen cold milk hungry m worried mama said plopped yellow rubbered bottle tiny lip shouting gradually died auburn said check did check mama said fine tear said headstrong tried pry wrong said sorry couldn t baby heard ankle hurting bad spine starting curl just night know said carried bed said d okay sun come underneath eyelid persistent glimmer life spark believe d hold forever oliver screamed distance hurried buried trove rusted toy car pointing michael s room ran heart thumping grabbed handcuff room headed straight michael s immediately tackling ground cuffing wrist late blood time used nail scoured oliver s pile trash let screamed thunder roared voice dragged arm flailing threw wall surprise sobered episode sobbed quietly pain starting sink turned lifted arm looking wound darkness drip gaping hole near wrist m sorry said don t said tying dirty piece torn blanket upper arm oliver auburn oliver mouth agape time finally right mind ran hold said ruffling michael s hair started bawling auburn heavy breathing hair messed came aid kit good stockpiled lot year let care michael stood doorway catching breath kid waking gathering understood happening shushed room need coffee mumbled auburn good idea chuckled make ll finish step felt heavy checked baby way kitchen bottle took bottle threw pile unwashed dish sink trying turn stove hot coffee mind realized gas past week happened tonight broke blindly swung arm sure hit cutlery ceramic plate slumped floor breath rapid hot throat tightening tried suppressing severe desire scream didn t work mocking faint existence world rain poured harder drowned voice laughed closed eye felt like time stopped sat night long auburn woke dream hand trembling jon need help oh ve gotta kidding jon aren t shit month groin area dripping wet stumbled hand gripping clawing stomach t hold till sunrise mama s tonight screamed pain fell floor okay lifted arm flung shoulder slowly standing making way mama s room knocked room thank goodness able open little rest really helped immediately understood happening told bring usual big chair bucket water leave rest wanting left mistake mama s night light room wanted turn corner eye spotted book resting half opened edge bed picture diary flipped recognized picture heart dropped read older entry x b shouldn t read really shouldn t x b th march cursed born coming michael s truly miracle weather change emotion told curse intense drastic sense sadness born mother s suicide bunch crap sky sunny s ll make sure s staying way x b th september strange case boy uncontrollable impulse hoard lay hand stricken poverty aged parent sold money boy cursed dreadful greed difficult oliver evil child chance x b th january poor thing wrote page creased stained mama s tear attached picture auburn baby quite deformed article detailing rape case picture auburn s mother article stated miscarriage auburn clearly failed attempt abortion known outside world hadn t known auburn went wasn t normal sure girl suddenly pregnant birth month malformed baby mama assured auburn okay x b th june world know pitiful existence save x b stormed room shaking reading quite time approached process auburn happily cradling red fetus wrapped cloth mama s face contorted horror saw brought book x b curse took life x b came mama lap covered blood auburn cry eye mama said voice breaking jonathan hand caressing cheek softly knew d come s true m cursed life cursed abandoned birth hush thing coughed time m proud care started cry uncontrollably wasn t ready lose don t leave mama don t leave m jon whispered remember remember know ll better place love don t remember happened uttered word auburn oliver managed calm kid short miracle michael went life newfound inspiration day auburn talked telling knew book detail curse black month wouldn t stop taken life handcuff originally michael son serial killer past year auburn given cursed offspring life blackout mama believed good waiting offspring unnatural unfit live long breathing okay sure long ll need help don t care having jail time death sentence sibling deserve better family deserves better oliver michael auburn nia baby don t know outside world mama written look help s gone reaching deepest heart x b care',\n",
       " 'want tell happened halloween holiday approaching m literally scared don t know m grown man late twenty work decent job able afford small story house s just wife kid don t girlfriend right liked halloween m big scaredy cat kid knew looked forward year dreaded thought weird thing celebrate c mon kid s devil s night know mean time costume knock random people door beg sweet completely contradicts dont candy stranger s rule beat head kindergarten plus hated scary costume chicken shit kid m chicken shit man said don t buy candy m participating holiday don t believe s entirely true bought big bag mixed chocolate happened halloween got home work hour trick treating started sun just starting set parked garage lowered door make home turned light inside sure porch light quick shower settled favorite armchair bowl popcorn bag candy looked window blind curtain drawn confident wouldn t bothered turned tv flipping usual halloween trash play year settled documentary alien egyptian minute program heard light knock door rolled eye sunk deeper chair second went heard damn kid muttered light hint shoved fist popcorn mouth turned tv notch suddenly pounding door making jump seat bang bang bang bang heart skipped beat clutched bowl popcorn chest sacred thing kid hell problem stared door waiting happen didn t slowly crept window pulled curtain stuck finger blind cracked open peek looked street way opposite way trick treater neighbor sitting outside heart rate started slow shrugged went chair soon sat doorbell rang oh jesus hell quickly walked window pulled blind open outside door starting little nervous sure just dumb as teenager messing didn t answer fear started bubble chest like happened nervous jumpy guy begin ok going stand ground deal like adult rushed door hand handle heart racing wasn t kid paused second flinging door open stepping foot door okay voice cracked tried sound intimidating funny work morning knock ll calling police yelled street looking seeing satisfied leave turned heard strange noise like squelching followed loud burp giggle giggle sounded weird like grown person imitating child jumped inside slammed door locking leaned wall trying heart rate hear heartbeat ear like loud steady drum noticed hand shaking slightly needed water quickly walked kitchen grab bottled water fridge drank half bottle gulp bottle whiskey freezer decided good time drink calm nerve poured finger worth took sip felt better holding glass turned face living room saw blood run cold looking window left blind leaning window couldn t clearly just dark silhouette light street lamp outside dropped glass shattered let little yelp frozen spot figure didn t stared stared second regained composure scared decided stop like bolt lightning bounded door grabbed baseball bat kept raised bat flung door open man standing doorstep large man let small dressed green peter pan costume pointed hat included costume way small arm leg stuck inch costume shirt raised exposing ample stomach s weirdest looked like wearing mask mask looked extremely real s stretched face eye hole cut man s entire mouth detail extravagant side mask jagged bloody eyebrow actual hair print held piece twine wrapped head tied looked like replica child s face distorted hard tell whoa buddy gave concussion said breathlessly guy didn t say held dirty sack uhh aren t little old trick treat eyed suspiciously maybe wrong mentally said shook bag little naw man don t candy sorry better luck house surveyed took step blood dripped mask ground stayed silent mouth stretched grin prosthetic teeth teeth saw pointed dingy brown color sharp eye little large round bug eyed didn t eyelid ok buddy time started backing house s banging door don t tried sound confident voice wavered grin just stretched wider don t know s possible literally stretch ear ear masked stretched s noticed ear slightly pointed time ll dealing police good night shouted slammed door face heart racing afraid weirdo thought calling police asking drive street just check thing halloween say knocked loudly decided just head upstairs lay maybe read little bed changed pajama used bathroom brushing teeth thought heard noise sounded like metal scraping glass stopped listened hard didn t hear room upstairs tiny balcony s small porch big table size nightstand folding chair s smoke bed just open door heard noise metal glass screeeeeeeeeee stopped hand doorknob shit pant coming right door dark couldn t grabbed flashlight nightstand drawer shone little window door hair neck stood standing face touching glass window s possible person climb house balcony grinning drooling lifted finger tapped glass slowly fingernail missed nail long jagged yellowed filthy tap tap tap tried swallow throat like dessert tried step backwards couldn t petrified watched held finger backed railing grinning malicious grin stood straight lifted dirty sack plunged hand pulled fist looked like ash grandiose flourish tossed ash air head m sure expected happen maybe thought start levitating did took deep breath voice listen man need leave right squeaked gun did gun didn t know watched terrible rictus fade slowly close mouth frown reached bag pulled looked like intestine studied second dropping floor landed squelch thrust hand sack started digging m joking leave forced defend yelled stopped digging glanced moving head eye narrowed held finger guy deal pulled item obviously prop severed foot considered second tossing shoulder heard hit ground sickening wet thud wig mop long curly brown hair complete bloody scalp attached noticed disgusted expression grinned slapping head doing little jig laughed silently tossing railing noticed fake blood scalp stained cap scraggly hair red dove sack rummaged finding looking watched shaking expression turned mock surprise tear welled eye watched pull sack terrified core prop light flash light shine reflect brandished biggest butcher s knife seen tear spilled cheek smile returned glint big buggy eye said immensely enjoying let tear roll shaking heart threatened burst chest voice whisper fuck want croaked scared life held hand beckoned join outside shook head smile faltered little beckoned time turned little extending hand sky mimicking flying motion shook head aggressively time shouting fuck smile fell right face shoulder slouched raised butcher s knife neck mimicked slicing throat staring soul eye flashed mouth turned scowl click heard door open slowly swung inwards creak thought having heart attack right thing saw blacked step forward room smile plastered face woke alarm sat straight bed screamed looked room slammed hand clock stop alarm blaring breathing hard covered sweat shot look balcony door closed jumped bed ran inspect locked unlocked threw open beautiful crisp morning sun neighbor bird chirping normal stepped looked railing sign hit pavement shook head lit smoke recounted event night dream just tired didn t remember laying just crazy nightmare chuckled chicken got dressed headed garage backed car waving neighbor right hit street slammed break laying end driveway dread filled chest event dream flooded head got walked car bent looked dirty sack heart started pounding throat dried instantly reached pulled sack whatcha got eh neighbor ted called pleasantly mailbox oh know probably sack candy kid dropped night shame answered stood walked trash can rounded corner house away prying eye hand shook opened sack peered inside thing piece old torn yellowed paper reached grabbed held inspected message heart skipped beat single sentence scrawled red halloween smiley face signature',\n",
       " 'damn phone ringing don t know agreed don t like people time started train thought hear late grandfather s word jake help t help tool sighed picked technological annoyance jake blackheart mr blackheart need help caller sounded hysterical m mr cosburn m desperate moved new house week ago occupant explain just finished moving thing attic needed remodel badly s old house soon started tearing disturbance presence explained people naive think old house cute don t bother consider possible history wall let guess stuck stuck t afford yep mr cosburn just husband ray state s tying loose end care help kid scared death tell s happening tried emotion story blended point people unable help afraid child involved knew didn t know deal just wanted peaceful life felt duty bestowed family going long day enlisted contractor start tearing attic floor water damage leaky roof came upstairs hearing activity apparently downstairs men hit head board told woke men gone assumed run happened told come won t return call rambling word coming quickly barely catch breath hear footstep thump upstairs m scared look t mr cosburn afford hotel night think feel like coward child need safe protect text address ll leave key come hour gracious thanks hung texted detail asked knew area country mile town farm older house area long neglected beautiful area appeal developer guess just s thing need people packed supply headed appropriately foggy morning dense cloud hanging low sky shrouding countryside white mist wouldn t nosy onlooker worry pulling drive saw house story looked pretty decent old man standing porch gregory smith known stepped car waved gregory giving helpless people just laughed shrugged shoulder don t know jake word mouth good business shook hand glanced property old mcleod place isn t yeah issue assume new owner stirred hornet nest remodel heard smithy guy working place came cry stopped happened s met mr cosburn nice lady gregory know don t paid shit right day job just goodness heart goodness heart cracked half smile okay got key let s look shall resourceful old man eh nosy laughed badgering let door board creaked entered obvious new resident bought place condition doesn t anybody believe inspection anymore thought loud annoyance evident gregory shrugged walked floor staircase probably city folk eager country walked flight attic door hold gregory wait day hope ll let jake grandfather friend know yeah said nonchalantly family s curse gift jake say old man reached duffel bag pulled small glass case opened looked putting earpiece old metal tube like apparatus fit snugly ear opening door struggle jammed making entrance difficult took minute pushing saw door slowly pushed open board stacked didn t heard clear raspy dark difficult mak e coming man sounded like m help t help darkness moved caught sight just glimpse retreated shadow figure tall face hidden light doorway make foot compared foot inch frame flew darkness smashed wall right hammer likely left abandoned contractor job fell ground left significant dent wooden wall drywall likely gone straight force thrown heard gregory retreating quickly stair rattled tried let spirit ve encountered angry usually good reason life ended abruptly leaving wrought negative emotion understood dealing violent reaction easy sinking feeling life hand day job death d like try told warily took step forward just hoped didn t access solid object door hear grandfather imparted gift using gregory s word hopefully gain ground better implying conversation curse taught listen gave mean pointed equipment wearing realized spirit probably wouldn t reference gave allows help hear aren t listening darkness shifted gliding room coming straight stupidly held ground trying display fear hand starting shake luckily stopped foot imposing figure taller originally thought short unkempt gray hair stood head sneered showing teeth display contempt clothes old fashioned today s standard large red stain covered majority torso head mess skull missing skin tissue hung wound happened man peaceful death reached pocket pulled tool trade small black stone glowing dimly warm touch saw spirit s eye glance stone charged s quite disconcerting murder victim focusing rage guilt flooded instantly worst come peace muttered stone exploded light pain suffering man endured filled mind dropped knee anguish saw final moment memory fear regret saw killer jealous lover stabbing chest braining fireplace poker saw life flash eye thing did chance experience passed eye sensation eventually passed moment intense misery looked standing form head longer mangled shirt clean looked seeing time realization hit smiled thank said disappeared wisp smoke gregory moment later helped foot okay jake m good thanks gregory pain gone memory lingered grandfather said death isn t worst s waste life really tear apart right man samuel anderson lived good life torn away wife discontent knew happened came home day husband s corpse lover denied involvement convincingly spent rest day samuel lingered doomed feel rage untimely death hand year ago wife lover long gone pain jake blackheart best worst people time stranger favor hate s responsibility grandfather s terrible people treat s conclusion tale keep going',\n",
       " 'm pickle water s ll steadily rising week s absolute miracle internet live story house bordering small river rural montana s small bedroom cabin placed foot concrete stilt directly right river height fish directly porch stilt reason m alive s davis parker ex banker quite fortune big apple mid life crisis retired age moved quiet serenity montana living peacefully numerous investment despite old fashioned look cabin invested heavily modern appliance spending good tenth saving best possible wifi internet service money buy s reason access internet montana giant flood started week received weather alert phone unloading grocery flash flood warning oddly wasn t cloud sky wasn t surprising beginning spring likely melting snow cause sudden surge water downstream afraid humming pleasant tune hurriedly sauntered stair pushed door wasn t worried sure chance stuff washed away insured easily money replace wait sat porch took camera hearing faint roar signaled impending flash flood developed photography hobby framing beautiful vista surrounding quaint little home earned little income needed nice little cold hard cash emergency fund minute saw wave flood shooting river whipped camera eager shot clicked shutter paused peering camera confusion flood larger usual plunging foot bank sweeping torrent water shot underneath house second sweeping away new chevy silverado faster expected forming foot water underneath firm concrete stilt wasn t odd thing flood oddest thing water blue natural kind blue looked artificial like kind heavily dyed water spewing cartoonish volcano mini golf just stared wonder torrent continued downstream sweeping away anchored path tearing tree usually just waiting game holing flood passed day course flood idea coloration didn t unusual flood prepared small meal went bed month s worth ration pantry didn t worry food water expensive water purification judging weird color water gurgled don t think ll drinking time soon crazy thing started day thing happen completely floored gotten breakfast sitting porch body began drifting completely baffled horrified body drifted downstream watched terror number began increase river completely swollen dead s dead body completely mangled scorched acid twisted horrifying inhuman death throe sort hissing steam rose water body bobbed clothes completely gone naked form confused save wealthy individual like lived upstream area completely deserted heck body coming clue thing floating river tire dozen barrel rusted fading insignia appeared military humvee half submerged raging current saw neighbor s ferraris float past appeared inside shuddered remembering friendly demeanor occasionally let sit shotgun beautiful car hoped family okay house higher story high maybe ve refuge body finally stopped later night wept silently hour exhausted climbed bed second time s week water hasn t begun subside contrary s rising gradually day day day shining unnatural blue color entire time night think s begun start glowing m getting really concerned tossed small chunk meat sizzled disappeared underneath water cloud steam don t think s safe touch water make matter immensely worse water finally overcame stilt yesterday barely time food scrap sick looking water swarmed floor loud hiss ve checking social medium constantly s absolutely news idea granted don t think affected given s thousand acre house civilization notice weird water flood right m beginning think government s covering day ago think saw official looking helicopter far distance dropping large tree line failed attention think hallucination anyways ve having lot recently haunting image family staring deep forest beckoning step water neighbor ghostly ferrari encouraging hop random noise light stemming water s obvious just want step flood kill ignore carry like normal think water messing mind m constantly feeling faint dizzy get stronger time step outside won t hear news m going try let know s happening s late don t think m going make water s halfway house reach roof end week unless flag helicopter m doomed wait just finished writing helicopter s spotted m saved s dropping ladder just foot away water beckoning climb need swim foot ladder m saved',\n",
       " 'year old moved new house utah day getting settled actually need tangent m sorry important know slept house basement stair leading huge room quarter size floor corner door slept big room mainly storage room thing big filing cabinet tv corner room way lighting set shadow room going middle room didn t getting ready bed awesome ben pajama got cozy room situated thing wall carpet middle bed facing door look reading look filing cabinet saw little let little gasp saw shadow man fedora trench coat standing making profile thought weird shadow cast light lamp cabinet closer inspection noticed shadow cast wall floor like doing final thing creeped alive s noticeable look super closely jacket chest expands constricts shadow breathed went upstairs tell parent didn t want stay room anymore sleep near room make feel secure went shadow went looking couldn t went like week think tuesday look cabinet shadow usual casually breathing slowly walked room shadow cabinet foot away immediately noticed definitely alive moving dilating deflating s invisible breath like thought sure frozen ran room bed looked shadow saw shadow room did notice changed facing lost let loud scream saying man looking s looking doesn t look dad came ask happened told shadow pointed space cabinet longer occupied strange shadow calmed checked basement told fine left closed door turned light closed door immediately jumped grabbed flashlight dresser flew bed prepared wrapped safety blanket turned flashlight scanned room got door sat completely like deer headlight shadow tall man fedora trenchcoat room light concentrated defined solid chin ear moving slightly irregularly like talking don t know said don t think want know year ago think shadow man day trying say']"
      ]
     },
     "execution_count": 28,
     "metadata": {},
     "output_type": "execute_result"
    }
   ],
   "source": [
    "# Check first 5 posts from X_training_cleaned\n",
    "X_training_cleaned[0:5]"
   ]
  },
  {
   "cell_type": "markdown",
   "metadata": {},
   "source": [
    "- *It appears some words have been quite badly butchered to the point of being unrecognizable, but in general there seems to be enough meaningful words to proceed with EDA and modelling.*"
   ]
  },
  {
   "cell_type": "code",
   "execution_count": 29,
   "metadata": {},
   "outputs": [
    {
     "name": "stdout",
     "output_type": "stream",
     "text": [
      "There are 306 posts in X_testing_cleaned\n"
     ]
    }
   ],
   "source": [
    "X_testing_cleaned = cleaned_posts(X_testing)\n",
    "print(f'There are {len(X_testing_cleaned)} posts in X_testing_cleaned')"
   ]
  },
  {
   "cell_type": "code",
   "execution_count": 30,
   "metadata": {},
   "outputs": [],
   "source": [
    "# Generate a list of posts from r/nosleep\n",
    "nosleep_posts = []\n",
    "for i in y_training[y_training == 1].index: # Get index of y_training where the value == 1, meaning that the post is from r/nosleep\n",
    "    nosleep_posts.append(X_training_cleaned[i]) # Append the corresponding post to nosleep_posts"
   ]
  },
  {
   "cell_type": "code",
   "execution_count": 31,
   "metadata": {},
   "outputs": [],
   "source": [
    "# Generate a list of posts from r/HFY\n",
    "hfy_posts = []\n",
    "for i in y_training[y_training == 0].index: # Get index of y_training where the value == 0, meaning that the post is from r/HFY\n",
    "    hfy_posts.append(X_training_cleaned[i]) # Append the corresponding post to nosleep_posts"
   ]
  },
  {
   "cell_type": "code",
   "execution_count": 32,
   "metadata": {},
   "outputs": [
    {
     "name": "stdout",
     "output_type": "stream",
     "text": [
      "In X_training_cleaned, there are 455 posts from r/nosleep\n"
     ]
    }
   ],
   "source": [
    "print(f'In X_training_cleaned, there are {len(nosleep_posts)} posts from r/nosleep')"
   ]
  },
  {
   "cell_type": "code",
   "execution_count": 33,
   "metadata": {},
   "outputs": [
    {
     "name": "stdout",
     "output_type": "stream",
     "text": [
      "In X_training_cleaned, there are 460 posts from r/HFY\n"
     ]
    }
   ],
   "source": [
    "print(f'In X_training_cleaned, there are {len(hfy_posts)} posts from r/HFY')"
   ]
  },
  {
   "cell_type": "markdown",
   "metadata": {},
   "source": [
    "- *There are a similar number of posts in X_training_cleaned*"
   ]
  },
  {
   "cell_type": "markdown",
   "metadata": {},
   "source": [
    "## Exploration of post lengths (after cleaning)"
   ]
  },
  {
   "cell_type": "code",
   "execution_count": 34,
   "metadata": {},
   "outputs": [],
   "source": [
    "# Create an empty list to append the length of each individual post for r/nosleep\n",
    "len_nosleep_posts = []\n",
    "for i in nosleep_posts:\n",
    "    len_nosleep_posts.append(len(i.split(' ')))# Split using ' ' delimiter to create list of words, so can count no. of words"
   ]
  },
  {
   "cell_type": "code",
   "execution_count": 35,
   "metadata": {},
   "outputs": [],
   "source": [
    "# Create an empty list to append the length of each individual post for r/HFY\n",
    "len_hfy_posts = []\n",
    "for i in hfy_posts:\n",
    "    len_hfy_posts.append(len(i.split(' ')))# Split using ' ' delimiter to create list of words, so can count no. of words"
   ]
  },
  {
   "cell_type": "code",
   "execution_count": 36,
   "metadata": {},
   "outputs": [
    {
     "data": {
      "image/png": "[encoded data removed]",
      "text/plain": [
       "<Figure size 720x360 with 2 Axes>"
      ]
     },
     "metadata": {
      "needs_background": "light"
     },
     "output_type": "display_data"
    }
   ],
   "source": [
    "# Plot histograms of the distribution of post lengths (w/ only meaningful words) for the 2 subreddits\n",
    "plt.rcParams[\"patch.force_edgecolor\"] = True\n",
    "fig, ax = plt.subplots(nrows=1, ncols=2, figsize=(10, 5), sharex=False)\n",
    "plt.subplots_adjust(wspace=0.3)\n",
    "ax = ax.ravel()\n",
    "ax0 = pd.Series(len_nosleep_posts).plot(kind='hist', ax=ax[0])\n",
    "ax0.title.set_text('Histogram for r/nosleep post lengths')\n",
    "ax1 = pd.Series(len_hfy_posts).plot(kind='hist', ax=ax[1])\n",
    "ax1.title.set_text('Histogram for r/HFY post lengths')"
   ]
  },
  {
   "cell_type": "markdown",
   "metadata": {},
   "source": [
    "- Overall, the distributions are both positively skewed.\n",
    "    - *It can be inferred that*:\n",
    "        - Generally there is higher probability for a post length to be shorter compared to longer (assuming any length threshold)\n",
    "        - The actual average post length (with no stop words/characters removed), is greater for r/nosleep vs r/HFY.\n",
    "    - *It is assumed that*:\n",
    "        - The amount of stopwords in each individual post, across both corpuses, is roughly the same. If it is a random distribution then this could affect the distribution of post lengths derived from only meaningful words.\n",
    "- r/HFY in general seems to have shorter post lengths with meaningful words compared to r/nosleep, either suggesting a higher usage of stop words, or that posters to r/HFY typically write shorter posts. "
   ]
  },
  {
   "cell_type": "markdown",
   "metadata": {},
   "source": [
    "## Exploration of words"
   ]
  },
  {
   "cell_type": "markdown",
   "metadata": {},
   "source": [
    "### Using Count Vectorization"
   ]
  },
  {
   "cell_type": "code",
   "execution_count": 37,
   "metadata": {},
   "outputs": [],
   "source": [
    "# Initialize count vectorizer\n",
    "cvec = CountVectorizer(min_df=10, max_df=0.95) # set min_df=10 and max_df=0.95"
   ]
  },
  {
   "cell_type": "code",
   "execution_count": 38,
   "metadata": {},
   "outputs": [],
   "source": [
    "# Create a dataframe derived from the count vectorization of the posts from r/nosleep\n",
    "cvec_df_nosleep = pd.DataFrame(cvec.fit_transform(pd.Series(nosleep_posts)).toarray(), \n",
    "                       columns=cvec.get_feature_names())"
   ]
  },
  {
   "cell_type": "code",
   "execution_count": 39,
   "metadata": {},
   "outputs": [],
   "source": [
    "# Create a dataframe derived from the count vectorization of the posts from r/nosleep\n",
    "cvec_df_hfy = pd.DataFrame(cvec.fit_transform(pd.Series(hfy_posts)).toarray(), \n",
    "                       columns=cvec.get_feature_names())"
   ]
  },
  {
   "cell_type": "markdown",
   "metadata": {},
   "source": [
    "#### Comparison of top 15 most used words from the 2 subreddits"
   ]
  },
  {
   "cell_type": "code",
   "execution_count": 40,
   "metadata": {},
   "outputs": [
    {
     "data": {
      "text/plain": [
       "<matplotlib.axes._subplots.AxesSubplot at 0x2c4e917e7b8>"
      ]
     },
     "execution_count": 40,
     "metadata": {},
     "output_type": "execute_result"
    },
    {
     "data": {
      "image/png": "[encoded data removed]",
      "text/plain": [
       "<Figure size 720x360 with 2 Axes>"
      ]
     },
     "metadata": {
      "needs_background": "light"
     },
     "output_type": "display_data"
    }
   ],
   "source": [
    "fig, ax = plt.subplots(nrows=1, ncols=2, figsize=(10, 5), sharex=False)\n",
    "ax = ax.ravel()\n",
    "cvec_df_nosleep.sum().sort_values(ascending=False).head(15).plot(kind='barh', ax=ax[0], title='Top 15 used words in r/nosleep')\n",
    "cvec_df_hfy.sum().sort_values(ascending=False).head(15).plot(kind='barh', ax=ax[1], title='Top 15 used words in r/HFY')"
   ]
  },
  {
   "cell_type": "markdown",
   "metadata": {},
   "source": [
    "- The top 15 used words are quite similar between the 2 subreddits, however there are differences as well.\n",
    "- The magnitude of the times a specific word is used is greater in r/nosleep compared to r/HFY.\n",
    "- The top used word ('like') in r/nosleep has a distinct lead over other top 15 words, whereas the top used word ('just') in r/HFY does not have such a distinct lead."
   ]
  },
  {
   "cell_type": "code",
   "execution_count": 41,
   "metadata": {},
   "outputs": [
    {
     "name": "stdout",
     "output_type": "stream",
     "text": [
      "The following set of words are in both subreddits' top 15 most used words:\n",
      "{'like', 'eye', 'time', 'thing', 'know', 'don', 'did', 'said'}\n",
      "\n",
      "The following set of words are in either (but not both) subreddits' top 15 most used words:\n",
      "{'right', 'ship', 'got', 'head', 'door', 'looked', 'human', 'room', 'house', 'hand', 'day', 'just', 'didn', 'way'}\n"
     ]
    }
   ],
   "source": [
    "# Get the top 15 words in both subreddits as a list\n",
    "top15_nosleep_lst = cvec_df_nosleep.sum().sort_values(ascending=False).head(15).keys()\n",
    "top15_hfy_lst = cvec_df_hfy.sum().sort_values(ascending=False).head(15).keys()\n",
    "\n",
    "# Convert the lists of words into sets and find the intersection\n",
    "print(\"The following set of words are in both subreddits' top 15 most used words:\")\n",
    "print(set(top15_nosleep_lst).intersection(set(top15_hfy_lst)))\n",
    "print('')\n",
    "print(\"The following set of words are in either (but not both) subreddits' top 15 most used words:\")\n",
    "print(set(top15_nosleep_lst).symmetric_difference(set(top15_hfy_lst)))"
   ]
  },
  {
   "cell_type": "markdown",
   "metadata": {},
   "source": [
    "- Overall, there are 10 words in the intersection between the 2 sets of top 15 words.\n",
    "- 'time' seems to be quite a popular word to use across the 2 subreddits, and relatively equal in popularity (used approx. 2000 times)\n",
    "- 'thing', 'eye', 'hand', 'way' also seem to be relatively similar in terms of times used.\n",
    "- Even though there are a lot of overlaps between commonly used words, there appears to be words which can be used to provide distinction between the 2 subreddits."
   ]
  },
  {
   "cell_type": "markdown",
   "metadata": {},
   "source": [
    "#### Aggregating between the 2 subreddits"
   ]
  },
  {
   "cell_type": "code",
   "execution_count": 42,
   "metadata": {},
   "outputs": [
    {
     "data": {
      "image/png": "[encoded data removed]",
      "text/plain": [
       "<Figure size 720x360 with 1 Axes>"
      ]
     },
     "metadata": {
      "needs_background": "light"
     },
     "output_type": "display_data"
    }
   ],
   "source": [
    "# Create a word cloud to visualize the commonly used words across the 2 subreddits\n",
    "wordcloud = WordCloud(max_font_size=50, max_words=50, background_color=\"white\",\n",
    "                      stopwords=stop_words.ENGLISH_STOP_WORDS).generate(\" \".join(X_training_cleaned))\n",
    "plt.figure(figsize=(10, 5))\n",
    "plt.imshow(wordcloud, interpolation=\"bilinear\")\n",
    "plt.axis(\"off\")\n",
    "plt.show()"
   ]
  },
  {
   "cell_type": "code",
   "execution_count": 43,
   "metadata": {},
   "outputs": [],
   "source": [
    "# Make a dataframe of the count of all words across the 2 subreddits\n",
    "cvec = CountVectorizer(min_df=10, max_df=0.95) # set min_df=10 and max_df=0.95\n",
    "cvec_df = pd.DataFrame(cvec.fit_transform(pd.Series(X_training_cleaned)).toarray(), \n",
    "                       columns=cvec.get_feature_names())\n",
    "# Filter out the stopwords used in the wordcloud\n",
    "cvec_df = cvec_df[[col for col in cvec_df.columns if col not in wordcloud.stopwords]]"
   ]
  },
  {
   "cell_type": "code",
   "execution_count": 44,
   "metadata": {},
   "outputs": [
    {
     "data": {
      "text/plain": [
       "<matplotlib.axes._subplots.AxesSubplot at 0x2c4ec29a668>"
      ]
     },
     "execution_count": 44,
     "metadata": {},
     "output_type": "execute_result"
    },
    {
     "data": {
      "image/png": "[encoded data removed]",
      "text/plain": [
       "<Figure size 432x288 with 1 Axes>"
      ]
     },
     "metadata": {
      "needs_background": "light"
     },
     "output_type": "display_data"
    }
   ],
   "source": [
    "# Plot out the 15 most used words across both subreddits\n",
    "cvec_df.sum().sort_values(ascending=False).head(15).plot(kind='barh')"
   ]
  },
  {
   "cell_type": "markdown",
   "metadata": {},
   "source": [
    "- Across the 2 subreddits, 'just' is the most commonly used word.\n",
    "- The top few words from the above plot are popular words in both subreddits. (i.e. 'just' and 'like' are popular words in both subreddits)\n",
    "    - 'human', a top 15 used word in r/HFY but not in r/nosleep, is ranked 15th\n",
    "    - 'looked', a top 15 used word in r/nosleep but not in r/HFY, is ranked 10th"
   ]
  },
  {
   "cell_type": "code",
   "execution_count": 45,
   "metadata": {},
   "outputs": [
    {
     "name": "stdout",
     "output_type": "stream",
     "text": [
      "The number of unique words obtained after applying count vectorization on X_training_cleaned: 6427\n"
     ]
    }
   ],
   "source": [
    "# count vectorization using hyperparameters: min_df=10, max_df=0.95\n",
    "# print out the number of unique words in X_training_cleaned after count vectorization\n",
    "print(f'The number of unique words obtained after applying count vectorization on X_training_cleaned: {cvec_df.shape[1]}')"
   ]
  },
  {
   "cell_type": "markdown",
   "metadata": {},
   "source": [
    "- *There seems to be enough meaningful words in the corpus in order to construct a model that can perform acceptably well.*"
   ]
  },
  {
   "cell_type": "markdown",
   "metadata": {},
   "source": [
    "### Using tf-idf"
   ]
  },
  {
   "cell_type": "markdown",
   "metadata": {},
   "source": [
    "- Using the same procedure as count vectorization, the top 15 most common words will be explored."
   ]
  },
  {
   "cell_type": "code",
   "execution_count": 46,
   "metadata": {},
   "outputs": [],
   "source": [
    "# Initialize TfidfVectorizer\n",
    "tvec = TfidfVectorizer(min_df=10, max_df=0.95) # set min_df=10 and max_df=0.95"
   ]
  },
  {
   "cell_type": "code",
   "execution_count": 47,
   "metadata": {},
   "outputs": [],
   "source": [
    "# Create a dataframe derived from the count vectorization of the posts from r/nosleep\n",
    "tvec_df_nosleep = pd.DataFrame(tvec.fit_transform(pd.Series(nosleep_posts)).toarray(), \n",
    "                       columns=tvec.get_feature_names())"
   ]
  },
  {
   "cell_type": "code",
   "execution_count": 48,
   "metadata": {},
   "outputs": [],
   "source": [
    "# Create a dataframe derived from the count vectorization of the posts from r/HFY\n",
    "tvec_df_hfy = pd.DataFrame(tvec.fit_transform(pd.Series(hfy_posts)).toarray(), \n",
    "                       columns=tvec.get_feature_names())"
   ]
  },
  {
   "cell_type": "markdown",
   "metadata": {},
   "source": [
    "#### Comparison of top 15 most used words from the 2 subreddits"
   ]
  },
  {
   "cell_type": "code",
   "execution_count": 49,
   "metadata": {},
   "outputs": [
    {
     "data": {
      "text/plain": [
       "<matplotlib.axes._subplots.AxesSubplot at 0x2c4f102b898>"
      ]
     },
     "execution_count": 49,
     "metadata": {},
     "output_type": "execute_result"
    },
    {
     "data": {
      "image/png": "[encoded data removed]",
      "text/plain": [
       "<Figure size 720x720 with 4 Axes>"
      ]
     },
     "metadata": {
      "needs_background": "light"
     },
     "output_type": "display_data"
    }
   ],
   "source": [
    "fig, ax = plt.subplots(nrows=2, ncols=2, figsize=(10, 10), sharex=False)\n",
    "ax = ax.ravel()\n",
    "cvec_df_nosleep.sum().sort_values(ascending=False).head(15).plot(kind='barh', ax=ax[0], title='Top 15 used words in r/nosleep (count vec)')\n",
    "cvec_df_hfy.sum().sort_values(ascending=False).head(15).plot(kind='barh', ax=ax[1], title='Top 15 used words in r/HFY (count vec)')\n",
    "tvec_df_nosleep.sum().sort_values(ascending=False).head(15).plot(kind='barh', ax=ax[2], title='Top 15 used words in r/nosleep (tfidf)')\n",
    "tvec_df_hfy.sum().sort_values(ascending=False).head(15).plot(kind='barh', ax=ax[3], title='Top 15 used words in r/HFY (tfidf)')"
   ]
  },
  {
   "cell_type": "markdown",
   "metadata": {},
   "source": [
    "- Using tfidf, the effect of penalizing words generally used throughout the corpus can be seen.\n",
    "    - e.g., in r/HFY after using tf-idf, 'human' has the highest weightage now instead of 'just'. This shows that 'human' is used often in certain posts, but appear in less posts as compared to 'just'."
   ]
  },
  {
   "cell_type": "markdown",
   "metadata": {},
   "source": [
    "#### Aggregating between the 2 subreddits"
   ]
  },
  {
   "cell_type": "code",
   "execution_count": 50,
   "metadata": {},
   "outputs": [],
   "source": [
    "# Make a dataframe of the count of all words across the 2 subreddits\n",
    "tvec_df = pd.DataFrame(tvec.fit_transform(pd.Series(X_training_cleaned)).toarray(), \n",
    "                       columns=tvec.get_feature_names())\n",
    "# Filter out the stopwords used in the wordcloud\n",
    "tvec_df = tvec_df[[col for col in tvec_df.columns if col not in wordcloud.stopwords]]"
   ]
  },
  {
   "cell_type": "code",
   "execution_count": 51,
   "metadata": {},
   "outputs": [
    {
     "data": {
      "text/plain": [
       "<matplotlib.axes._subplots.AxesSubplot at 0x2c4f7e03dd8>"
      ]
     },
     "execution_count": 51,
     "metadata": {},
     "output_type": "execute_result"
    },
    {
     "data": {
      "image/png": "[encoded data removed]",
      "text/plain": [
       "<Figure size 720x360 with 2 Axes>"
      ]
     },
     "metadata": {
      "needs_background": "light"
     },
     "output_type": "display_data"
    }
   ],
   "source": [
    "# Plot out the 15 most used words across both subreddits\n",
    "fig, ax = plt.subplots(nrows=1, ncols=2, figsize=(10, 5), sharex=False)\n",
    "ax = ax.ravel()\n",
    "cvec_df.sum().sort_values(ascending=False).head(15).plot(kind='barh', ax=ax[0], title='cvec across the 2 subreddits')\n",
    "tvec_df.sum().sort_values(ascending=False).head(15).plot(kind='barh', ax=ax[1], title='tvec across the 2 subreddits')"
   ]
  },
  {
   "cell_type": "markdown",
   "metadata": {},
   "source": [
    "- 'human' increased quite significantly in terms of weightage after using tf-idf\n",
    "- Some words which were not in the top 15 used words using count vectorization, appeared after using tf-idf\n",
    "    - 'room', 'story', and 'house' appeared after using tf-idf"
   ]
  },
  {
   "cell_type": "code",
   "execution_count": 52,
   "metadata": {},
   "outputs": [
    {
     "name": "stdout",
     "output_type": "stream",
     "text": [
      "The number of unique words obtained after applying tf-idf vectorization on X_training_cleaned: 6427\n"
     ]
    }
   ],
   "source": [
    "# tf-idf vectorization using hyperparameters: min_df=10, max_df=0.95\n",
    "# print out the number of unique words in X_training_cleaned after tf-idf vectorization\n",
    "print(f'The number of unique words obtained after applying tf-idf vectorization on X_training_cleaned: {tvec_df.shape[1]}')"
   ]
  },
  {
   "cell_type": "markdown",
   "metadata": {},
   "source": [
    "# Modelling"
   ]
  },
  {
   "cell_type": "markdown",
   "metadata": {},
   "source": [
    "- Naive-bayes and Logistic Regression were chosen as the 2 models to use.\n",
    "- They are similar in the sense that both are common models used for binary classification problems.\n",
    "- The differences between them lie in the fact that:\n",
    "    - Naive-bayes: The weightage for each feature (word) is set independently, depending on the degree of correlation to the class. It assumes independence between each word, when that might not be the case. E.g.: \n",
    "        - 2 words appear quite frequently throughout a corpus, but \n",
    "        - they are in reality, highly correlated words with each other (i.e. using word 'a' will typically be followed with word 'b')\n",
    "        - a naive bayes model will give equal weightage for these 2 words\n",
    "    - Logistic regression: The weightage for each feature is set simultaneously, and along with a regularization technique, words with multicollinearity with each other will be penalized to a certain extent. \n",
    "    - Naive Bayes models reach the asymptotic solution faster than Logistic Regression, so if sample size is not large enough, Naive Bayes might be a better option despite its drawbacks. (http://ai.stanford.edu/~ang/papers/nips01-discriminativegenerative.pdf)\n",
    "    - Despite the inherently 'naive' assumption of Naive-bayes, it is a popular model as it is very fast to initialize and performs relatively well. In contrast to Logistic Regression, a Naive-bayes model can be used to classify multi-class categories, whereas Logistic Regression is mostly used for a binary classification problem."
   ]
  },
  {
   "cell_type": "markdown",
   "metadata": {},
   "source": [
    "## Baseline Accuracy"
   ]
  },
  {
   "cell_type": "code",
   "execution_count": 53,
   "metadata": {},
   "outputs": [
    {
     "data": {
      "text/plain": [
       "0    0.502732\n",
       "1    0.497268\n",
       "Name: nosleep, dtype: float64"
      ]
     },
     "execution_count": 53,
     "metadata": {},
     "output_type": "execute_result"
    }
   ],
   "source": [
    "# Determine the baseline accuracy score from training set\n",
    "y_training.value_counts(normalize=True)"
   ]
  },
  {
   "cell_type": "markdown",
   "metadata": {},
   "source": [
    "- Baseline accuracy score derived from the training set is 0.50."
   ]
  },
  {
   "cell_type": "markdown",
   "metadata": {},
   "source": [
    "## Multi-nomial Naive-bayes model"
   ]
  },
  {
   "cell_type": "markdown",
   "metadata": {},
   "source": [
    "Multi-nomial Naive-bayes will be used as the first model to be used as it is simple and performs well."
   ]
  },
  {
   "cell_type": "code",
   "execution_count": 54,
   "metadata": {},
   "outputs": [],
   "source": [
    "# Define a function to automatically output the confusion matrix as a dataframe\n",
    "# And also calculate the various metrics\n",
    "def confusion_matrix_df(pkl_model_pred, test=y_testing):\n",
    "    confusion_matrix_df = pd.DataFrame(confusion_matrix(test, pkl_model_pred),\n",
    "                                       columns=['Predicted Negative', 'Predicted Positive'],\n",
    "                                       index = ['Actual Negative', 'Actual Positive'])\n",
    "    tn, fp, fn, tp = confusion_matrix(test, pkl_model_pred).ravel()\n",
    "    specificity = tn/(tn+fp)\n",
    "    precision = tp/(tp+fp)\n",
    "    recall = tp/(tp+fn)\n",
    "    print('Specificity', specificity)\n",
    "    print('Precision:', precision)\n",
    "    print('Sensitivity/Recall:', recall)\n",
    "    print('f1-score:', 2 * (precision * recall) / (precision + recall))\n",
    "\n",
    "    return confusion_matrix_df"
   ]
  },
  {
   "cell_type": "markdown",
   "metadata": {},
   "source": [
    "### 1) Using Count-vectorization"
   ]
  },
  {
   "cell_type": "markdown",
   "metadata": {},
   "source": [
    "```python\n",
    "# Define the pipeline\n",
    "# nb_pipe1 will use count vectorization followed by Naive-Bayes multinomial modelling\n",
    "nb_pipe1 = Pipeline([('cvec', CountVectorizer()),\n",
    "                      ('nb', MultinomialNB())])\n",
    "\n",
    "# Set the GridSearch parameters for cvec \n",
    "pipe1_params = {\n",
    "    'cvec__max_features': [1000, 2000, 3000],\n",
    "    'cvec__min_df': [10, 20],\n",
    "    'cvec__max_df': [.9, .95],\n",
    "    'cvec__ngram_range': [(1,1), (1,2)]\n",
    "}\n",
    "\n",
    "# Fit the model using GridSearchCV\n",
    "nb_gs1 = GridSearchCV(nb_pipe1, param_grid=pipe1_params, cv=3)\n",
    "nb_gs1.fit(X_training_cleaned, y_training)\n",
    "print(nb_gs1.best_score_)\n",
    "nb_gs1.best_params_\n",
    "\n",
    "# As the pipeline takes very long to run, the model will be pickled\n",
    "# The GridSearchVC code above will be presented as a markdown\n",
    "# This process will be done for all subsequent GridSearchCV\n",
    "joblib.dump(nb_gs1, './pickles/nb_gs1.pkl')\n",
    "```"
   ]
  },
  {
   "cell_type": "code",
   "execution_count": 55,
   "metadata": {},
   "outputs": [],
   "source": [
    "# Load the pickled model\n",
    "nb_gs1_pkl = joblib.load('./pickles/nb_gs1.pkl')"
   ]
  },
  {
   "cell_type": "code",
   "execution_count": 56,
   "metadata": {},
   "outputs": [
    {
     "data": {
      "text/plain": [
       "{'cvec__max_df': 0.9,\n",
       " 'cvec__max_features': 2000,\n",
       " 'cvec__min_df': 10,\n",
       " 'cvec__ngram_range': (1, 1)}"
      ]
     },
     "execution_count": 56,
     "metadata": {},
     "output_type": "execute_result"
    }
   ],
   "source": [
    "# Look at the best parameters as determined by GridSearchCV\n",
    "nb_gs1_pkl.best_params_"
   ]
  },
  {
   "cell_type": "markdown",
   "metadata": {},
   "source": [
    "- The best hyperparameters seem to be the ones with the smaller magnitude.\n",
    "    - Best ngram range is (1, 1), even though it was thought that (1, 2) would increase accuracy."
   ]
  },
  {
   "cell_type": "code",
   "execution_count": 57,
   "metadata": {},
   "outputs": [
    {
     "name": "stdout",
     "output_type": "stream",
     "text": [
      "Accuracy score using **training data**: 0.9497267759562842\n"
     ]
    }
   ],
   "source": [
    "print('Accuracy score using **training data**:', nb_gs1_pkl.score(X_training, y_training))"
   ]
  },
  {
   "cell_type": "code",
   "execution_count": 58,
   "metadata": {},
   "outputs": [
    {
     "name": "stdout",
     "output_type": "stream",
     "text": [
      "Accuracy score using **testing data**: 0.9477124183006536\n"
     ]
    }
   ],
   "source": [
    "print('Accuracy score using **testing data**:', nb_gs1_pkl.score(X_testing_cleaned, y_testing))"
   ]
  },
  {
   "cell_type": "markdown",
   "metadata": {},
   "source": [
    "- Since accuracy score for training data and testing data is similar, suggests that the model has not been overfitted."
   ]
  },
  {
   "cell_type": "markdown",
   "metadata": {},
   "source": [
    "### 2) Using term frequency–inverse document frequency (tfidf)"
   ]
  },
  {
   "cell_type": "markdown",
   "metadata": {},
   "source": [
    "```python\n",
    "# Define the pipeline\n",
    "# nb_pipe2 will use tfidf vectorization followed by Naive-Bayes multinomial modelling\n",
    "nb_pipe2 = Pipeline([('tvec', TfidfVectorizer()),\n",
    "                      ('nb', MultinomialNB())])\n",
    "\n",
    "# Set the GridSearch parameters for tvec\n",
    "pipe2_params = {\n",
    "    'tvec__max_features': [1500, 2500, 3000],\n",
    "    'tvec__min_df': [10, 20],\n",
    "    'tvec__max_df': [.9, .95],\n",
    "    'tvec__ngram_range': [(1,1), (1,2)]\n",
    "}\n",
    "\n",
    "# Fit the model using GridSearchCV\n",
    "nb_gs2 = GridSearchCV(nb_pipe2, param_grid=pipe2_params, cv=3)\n",
    "nb_gs2.fit(X_training_cleaned, y_training)\n",
    "print(nb_gs2.best_score_)\n",
    "nb_gs2.best_params_\n",
    "\n",
    "# As the pipeline takes very long to run, the model will be pickled\n",
    "# The GridSearchVC code above will be presented as a markdown\n",
    "joblib.dump(nb_gs2, './pickles/nb_gs2.pkl')\n",
    "```"
   ]
  },
  {
   "cell_type": "code",
   "execution_count": 59,
   "metadata": {},
   "outputs": [],
   "source": [
    "# Load the pickled model\n",
    "nb_gs2_pkl = joblib.load('./pickles/nb_gs2.pkl')"
   ]
  },
  {
   "cell_type": "code",
   "execution_count": 60,
   "metadata": {},
   "outputs": [
    {
     "data": {
      "text/plain": [
       "{'tvec__max_df': 0.9,\n",
       " 'tvec__max_features': 1500,\n",
       " 'tvec__min_df': 10,\n",
       " 'tvec__ngram_range': (1, 2)}"
      ]
     },
     "execution_count": 60,
     "metadata": {},
     "output_type": "execute_result"
    }
   ],
   "source": [
    "nb_gs2_pkl.best_params_"
   ]
  },
  {
   "cell_type": "code",
   "execution_count": 61,
   "metadata": {},
   "outputs": [
    {
     "name": "stdout",
     "output_type": "stream",
     "text": [
      "Accuracy score using **training data**: 0.9420765027322404\n"
     ]
    }
   ],
   "source": [
    "print('Accuracy score using **training data**:', nb_gs2_pkl.score(X_training, y_training))"
   ]
  },
  {
   "cell_type": "code",
   "execution_count": 62,
   "metadata": {},
   "outputs": [
    {
     "name": "stdout",
     "output_type": "stream",
     "text": [
      "Accuracy score using **testing data**: 0.9183006535947712\n"
     ]
    }
   ],
   "source": [
    "print('Accuracy score using **testing data**:', nb_gs2_pkl.score(X_testing_cleaned, y_testing))"
   ]
  },
  {
   "cell_type": "markdown",
   "metadata": {},
   "source": [
    "- Accuracy score for testing data is slightly lower compared to for training data.\n",
    "- The model may have been overfitted."
   ]
  },
  {
   "cell_type": "markdown",
   "metadata": {},
   "source": [
    "### 3) Confusion Matrix & Model evaluation "
   ]
  },
  {
   "cell_type": "markdown",
   "metadata": {},
   "source": [
    "- **Summary of accuracy scores:**"
   ]
  },
  {
   "cell_type": "markdown",
   "metadata": {},
   "source": [
    "|Word-embedding method|training set score|testing set score|\n",
    "|---------------------|------------------|-----------------|\n",
    "|Count Vectorization|0.95|0.95|\n",
    "|tf-idf Vectorization|0.94|0.92|"
   ]
  },
  {
   "cell_type": "markdown",
   "metadata": {},
   "source": [
    "- Count vectorization seems to enable model to generalise well to unseen data.\n",
    "- Decreased accuracy for testing set score using tf-idf seems to suggest slight degree of overfitting."
   ]
  },
  {
   "cell_type": "markdown",
   "metadata": {},
   "source": [
    "- **Confusion matrices:**"
   ]
  },
  {
   "cell_type": "markdown",
   "metadata": {},
   "source": [
    "The confusion matrices below have following format:"
   ]
  },
  {
   "cell_type": "markdown",
   "metadata": {},
   "source": [
    "||Predicted Negative|Predicted Positive|\n",
    "|--|-------------|--------------|\n",
    "|**Actual Negative**|True Negative|False Positive|\n",
    "|**Actual Positive**|False Negative|True Positive|"
   ]
  },
  {
   "cell_type": "code",
   "execution_count": 63,
   "metadata": {},
   "outputs": [
    {
     "name": "stdout",
     "output_type": "stream",
     "text": [
      "Specificity 0.9545454545454546\n",
      "Precision: 0.9533333333333334\n",
      "Sensitivity/Recall: 0.9407894736842105\n",
      "f1-score: 0.9470198675496689\n"
     ]
    },
    {
     "data": {
      "text/html": [
       "<div>\n",
       "<style scoped>\n",
       "    .dataframe tbody tr th:only-of-type {\n",
       "        vertical-align: middle;\n",
       "    }\n",
       "\n",
       "    .dataframe tbody tr th {\n",
       "        vertical-align: top;\n",
       "    }\n",
       "\n",
       "    .dataframe thead th {\n",
       "        text-align: right;\n",
       "    }\n",
       "</style>\n",
       "<table border=\"1\" class=\"dataframe\">\n",
       "  <thead>\n",
       "    <tr style=\"text-align: right;\">\n",
       "      <th></th>\n",
       "      <th>Predicted Negative</th>\n",
       "      <th>Predicted Positive</th>\n",
       "    </tr>\n",
       "  </thead>\n",
       "  <tbody>\n",
       "    <tr>\n",
       "      <th>Actual Negative</th>\n",
       "      <td>147</td>\n",
       "      <td>7</td>\n",
       "    </tr>\n",
       "    <tr>\n",
       "      <th>Actual Positive</th>\n",
       "      <td>9</td>\n",
       "      <td>143</td>\n",
       "    </tr>\n",
       "  </tbody>\n",
       "</table>\n",
       "</div>"
      ],
      "text/plain": [
       "                 Predicted Negative  Predicted Positive\n",
       "Actual Negative                 147                   7\n",
       "Actual Positive                   9                 143"
      ]
     },
     "execution_count": 63,
     "metadata": {},
     "output_type": "execute_result"
    }
   ],
   "source": [
    "# Confusion matrix for Multi-nomial Naive Bayes using count vectorization\n",
    "confusion_matrix_df(nb_gs1_pkl.predict(X_testing_cleaned), test=y_testing)"
   ]
  },
  {
   "cell_type": "code",
   "execution_count": 64,
   "metadata": {},
   "outputs": [
    {
     "name": "stdout",
     "output_type": "stream",
     "text": [
      "Specificity 0.8831168831168831\n",
      "Precision: 0.8895705521472392\n",
      "Sensitivity/Recall: 0.9539473684210527\n",
      "f1-score: 0.9206349206349206\n"
     ]
    },
    {
     "data": {
      "text/html": [
       "<div>\n",
       "<style scoped>\n",
       "    .dataframe tbody tr th:only-of-type {\n",
       "        vertical-align: middle;\n",
       "    }\n",
       "\n",
       "    .dataframe tbody tr th {\n",
       "        vertical-align: top;\n",
       "    }\n",
       "\n",
       "    .dataframe thead th {\n",
       "        text-align: right;\n",
       "    }\n",
       "</style>\n",
       "<table border=\"1\" class=\"dataframe\">\n",
       "  <thead>\n",
       "    <tr style=\"text-align: right;\">\n",
       "      <th></th>\n",
       "      <th>Predicted Negative</th>\n",
       "      <th>Predicted Positive</th>\n",
       "    </tr>\n",
       "  </thead>\n",
       "  <tbody>\n",
       "    <tr>\n",
       "      <th>Actual Negative</th>\n",
       "      <td>136</td>\n",
       "      <td>18</td>\n",
       "    </tr>\n",
       "    <tr>\n",
       "      <th>Actual Positive</th>\n",
       "      <td>7</td>\n",
       "      <td>145</td>\n",
       "    </tr>\n",
       "  </tbody>\n",
       "</table>\n",
       "</div>"
      ],
      "text/plain": [
       "                 Predicted Negative  Predicted Positive\n",
       "Actual Negative                 136                  18\n",
       "Actual Positive                   7                 145"
      ]
     },
     "execution_count": 64,
     "metadata": {},
     "output_type": "execute_result"
    }
   ],
   "source": [
    "# Confusion matrix for Multi-nomial Naive Bayes using tfidf\n",
    "confusion_matrix_df(nb_gs2_pkl.predict(X_testing_cleaned), test=y_testing)"
   ]
  },
  {
   "cell_type": "markdown",
   "metadata": {},
   "source": [
    "- As seen from the Accuracy score between using count vectorization & tfidf, using count vectorization achieves a slightly higher score.\n",
    "- Using count vectorization, there seems to be quite a good balance for specificity vs. sensitivity/recall, and precision score is within a similar range as the other metrics as well.\n",
    "    - In the context of this project, the positive class is r/nosleep and the negative class is r/HFY.\n",
    "    - A similar score between Specificity and Recall means that:\n",
    "        - Among the posts belonging to r/nosleep, the rate of correct predictions is roughly similar to:\n",
    "        - The rate of correct predictions among the posts belonging to r/HFY\n",
    "    - The precision score of 0.95 is saying that among the total number of posts predicted to belong to r/nosleep, 95% of the total number of posts actually belong to r/nosleep.\n",
    "- Using tf-idf, the Recall score is noticeably higher than Specificity:\n",
    "    - This means posts are more likely to be classified correctly among r/nosleep posts, as opposed to r/HFY.\n",
    "    - This shows that the model is tuned to concentrate on predicting r/nosleep posts correctly whilst having weaker prediction abilities for r/HFY.\n",
    "        - Usage of tf-idf may have caused words belonging mostly to r/nosleep to be given more weightage as compared to count vectorization.\n",
    "- However, in the context of this project, the most important metric is arguably accuracy.\n",
    "    - A post being rightly/wrongly predicted as positive (r/nosleep) or negative (r/HFY) does not have ethical/serious consequences\n",
    "    - The trade-off between e.g. sensitivity and specificity is less of a consideration, unlike say in a medical diagnosis context\n",
    "        - i.e., for medical diagnosis it might be better to tune for higher sensitivity as it would be worse if someone with a disease was diagnosed as not having the disease (false negative). However, a false negative has ethical implications as well, so an 'optimal' balance between the 2 metrics is hugely controversial\n",
    "    - On the other hand, since r/nosleep has a higher subscriber number compared to r/HFY, it might make sense business-wise to favour Sensitivity/Recall. For the sake of simplicity though, Accuracy will be used as the main metric from now."
   ]
  },
  {
   "cell_type": "markdown",
   "metadata": {},
   "source": [
    "## Logistic regression model"
   ]
  },
  {
   "cell_type": "markdown",
   "metadata": {},
   "source": [
    "Logistic regression is the 2nd type of model to be used. It seemed the most appropriate in this case, as it is a binary classification problem."
   ]
  },
  {
   "cell_type": "markdown",
   "metadata": {},
   "source": [
    "### 1) Using Count-vectorization"
   ]
  },
  {
   "cell_type": "markdown",
   "metadata": {},
   "source": [
    "```python\n",
    "# Define the pipeline\n",
    "# logreg_pipe1 will use count vectorization and model using logistic regression\n",
    "logreg_pipe1 = Pipeline([('cvec', CountVectorizer()),\n",
    "                      ('logreg', LogisticRegression())])\n",
    "\n",
    "# Set the GridSearch parameters for cvec \n",
    "pipe1_params = {\n",
    "    'cvec__max_features': [1000, 2000, 3000],\n",
    "    'cvec__min_df': [10, 20],\n",
    "    'cvec__max_df': [.9, .95],\n",
    "    'cvec__ngram_range': [(1,1), (1,2)],\n",
    "    'logreg__penalty': ['l1', 'l2']\n",
    "}\n",
    "\n",
    "# Fit the model using GridSearchCV\n",
    "logreg_gs1 = GridSearchCV(logreg_pipe1, param_grid=pipe1_params, cv=3)\n",
    "logreg_gs1.fit(X_training_cleaned, y_training)\n",
    "print(logreg_gs1.best_score_)\n",
    "logreg_gs1.best_params_\n",
    "\n",
    "# As the pipeline takes very long to run, the model will be pickled\n",
    "# The GridSearchVC code above will be presented as a markdown\n",
    "joblib.dump(logreg_gs1, './pickles/logreg_gs1.pkl')\n",
    "```"
   ]
  },
  {
   "cell_type": "code",
   "execution_count": 65,
   "metadata": {},
   "outputs": [],
   "source": [
    "# Load the pickled model\n",
    "logreg_gs1_pkl = joblib.load('./pickles/logreg_gs1.pkl')"
   ]
  },
  {
   "cell_type": "code",
   "execution_count": 66,
   "metadata": {
    "scrolled": true
   },
   "outputs": [
    {
     "data": {
      "text/plain": [
       "{'cvec__max_df': 0.9,\n",
       " 'cvec__max_features': 2000,\n",
       " 'cvec__min_df': 20,\n",
       " 'cvec__ngram_range': (1, 1),\n",
       " 'logreg__penalty': 'l2'}"
      ]
     },
     "execution_count": 66,
     "metadata": {},
     "output_type": "execute_result"
    }
   ],
   "source": [
    "logreg_gs1_pkl.best_params_"
   ]
  },
  {
   "cell_type": "code",
   "execution_count": 67,
   "metadata": {},
   "outputs": [
    {
     "name": "stdout",
     "output_type": "stream",
     "text": [
      "Accuracy score using **training data**: 0.9989071038251366\n"
     ]
    }
   ],
   "source": [
    "print('Accuracy score using **training data**:', logreg_gs1_pkl.score(X_training, y_training))"
   ]
  },
  {
   "cell_type": "code",
   "execution_count": 68,
   "metadata": {},
   "outputs": [
    {
     "name": "stdout",
     "output_type": "stream",
     "text": [
      "Accuracy score using **testing data**: 0.9411764705882353\n"
     ]
    }
   ],
   "source": [
    "print('Accuracy score using **testing data**:', logreg_gs1_pkl.score(X_testing_cleaned, y_testing))"
   ]
  },
  {
   "cell_type": "markdown",
   "metadata": {},
   "source": [
    "- The model seems to have been overfitted to the training data."
   ]
  },
  {
   "cell_type": "markdown",
   "metadata": {},
   "source": [
    "### 2) Using term frequency–inverse document frequency (tfidf)"
   ]
  },
  {
   "cell_type": "markdown",
   "metadata": {},
   "source": [
    "```python\n",
    "# Define the pipeline\n",
    "# logreg_pipe2 will use tfidf vectorizer and model using logistic regression\n",
    "logreg_pipe2 = Pipeline([('tvec', TfidfVectorizer()),\n",
    "                      ('logreg', LogisticRegression())])\n",
    "\n",
    "# Set the GridSearch parameters for tvec\n",
    "pipe2_params = {\n",
    "    'tvec__max_features': [1500, 2500, 3000],\n",
    "    'tvec__min_df': [10, 20],\n",
    "    'tvec__max_df': [.9, .95],\n",
    "    'tvec__ngram_range': [(1,1), (1,2)],\n",
    "    'logreg__penalty': ['l1', 'l2']\n",
    "}\n",
    "\n",
    "# Fit the model using GridSearchCV\n",
    "logreg_gs2 = GridSearchCV(logreg_pipe2, param_grid=pipe2_params, cv=3, n_jobs=-1)\n",
    "logreg_gs2.fit(X_training_cleaned, y_training)\n",
    "print(logreg_gs2.best_score_)\n",
    "logreg_gs2.best_params_\n",
    "\n",
    "# As the pipeline takes very long to run, the model will be pickled\n",
    "# The GridSearchVC code above will be presented as a markdown\n",
    "joblib.dump(logreg_gs2, './pickles/logreg_gs2.pkl')\n",
    "```"
   ]
  },
  {
   "cell_type": "code",
   "execution_count": 69,
   "metadata": {},
   "outputs": [
    {
     "name": "stderr",
     "output_type": "stream",
     "text": [
      "C:\\Users\\Pat\\Anaconda3\\lib\\site-packages\\sklearn\\base.py:306: UserWarning: Trying to unpickle estimator TfidfTransformer from version 0.21.3 when using version 0.21.2. This might lead to breaking code or invalid results. Use at your own risk.\n",
      "  UserWarning)\n",
      "C:\\Users\\Pat\\Anaconda3\\lib\\site-packages\\sklearn\\base.py:306: UserWarning: Trying to unpickle estimator TfidfVectorizer from version 0.21.3 when using version 0.21.2. This might lead to breaking code or invalid results. Use at your own risk.\n",
      "  UserWarning)\n",
      "C:\\Users\\Pat\\Anaconda3\\lib\\site-packages\\sklearn\\base.py:306: UserWarning: Trying to unpickle estimator LogisticRegression from version 0.21.3 when using version 0.21.2. This might lead to breaking code or invalid results. Use at your own risk.\n",
      "  UserWarning)\n",
      "C:\\Users\\Pat\\Anaconda3\\lib\\site-packages\\sklearn\\base.py:306: UserWarning: Trying to unpickle estimator Pipeline from version 0.21.3 when using version 0.21.2. This might lead to breaking code or invalid results. Use at your own risk.\n",
      "  UserWarning)\n",
      "C:\\Users\\Pat\\Anaconda3\\lib\\site-packages\\sklearn\\base.py:306: UserWarning: Trying to unpickle estimator GridSearchCV from version 0.21.3 when using version 0.21.2. This might lead to breaking code or invalid results. Use at your own risk.\n",
      "  UserWarning)\n"
     ]
    }
   ],
   "source": [
    "# Load the pickled model\n",
    "logreg_gs2_pkl = joblib.load('./pickles/logreg_gs2.pkl')"
   ]
  },
  {
   "cell_type": "code",
   "execution_count": 70,
   "metadata": {
    "scrolled": true
   },
   "outputs": [
    {
     "data": {
      "text/plain": [
       "{'logreg__penalty': 'l2',\n",
       " 'tvec__max_df': 0.9,\n",
       " 'tvec__max_features': 3000,\n",
       " 'tvec__min_df': 20,\n",
       " 'tvec__ngram_range': (1, 1)}"
      ]
     },
     "execution_count": 70,
     "metadata": {},
     "output_type": "execute_result"
    }
   ],
   "source": [
    "logreg_gs2_pkl.best_params_"
   ]
  },
  {
   "cell_type": "code",
   "execution_count": 71,
   "metadata": {},
   "outputs": [
    {
     "name": "stdout",
     "output_type": "stream",
     "text": [
      "Accuracy score using **training data**: 0.9759562841530055\n"
     ]
    }
   ],
   "source": [
    "print('Accuracy score using **training data**:', logreg_gs2_pkl.score(X_training, y_training))"
   ]
  },
  {
   "cell_type": "code",
   "execution_count": 72,
   "metadata": {},
   "outputs": [
    {
     "name": "stdout",
     "output_type": "stream",
     "text": [
      "Accuracy score using **testing data**: 0.9281045751633987\n"
     ]
    }
   ],
   "source": [
    "print('Accuracy score using **testing data**:', logreg_gs2_pkl.score(X_testing_cleaned, y_testing))"
   ]
  },
  {
   "cell_type": "markdown",
   "metadata": {},
   "source": [
    "- Using tf-idf seemed to have helped reduce the degree of overfitting for Logistic Regression."
   ]
  },
  {
   "cell_type": "markdown",
   "metadata": {},
   "source": [
    "### 3) Confusion Matrix & Model evaluation "
   ]
  },
  {
   "cell_type": "markdown",
   "metadata": {},
   "source": [
    "- **Summary of accuracy scores:**"
   ]
  },
  {
   "cell_type": "markdown",
   "metadata": {},
   "source": [
    "|Word-embedding method|training set score|testing set score|\n",
    "|---------------------|------------------|-----------------|\n",
    "|Count Vectorization|0.99|0.94|\n",
    "|tf-idf Vectorization|0.98|0.93|"
   ]
  },
  {
   "cell_type": "markdown",
   "metadata": {},
   "source": [
    "- Count vectorization with Logistic Regression seems to result in high overfit.\n",
    "- tf-idf vectorization seems to lower the degree of overfit."
   ]
  },
  {
   "cell_type": "markdown",
   "metadata": {},
   "source": [
    "- **Confusion matrices:**"
   ]
  },
  {
   "cell_type": "code",
   "execution_count": 73,
   "metadata": {},
   "outputs": [
    {
     "name": "stdout",
     "output_type": "stream",
     "text": [
      "Specificity 0.9545454545454546\n",
      "Precision: 0.9527027027027027\n",
      "Sensitivity/Recall: 0.9276315789473685\n",
      "f1-score: 0.9400000000000001\n"
     ]
    },
    {
     "data": {
      "text/html": [
       "<div>\n",
       "<style scoped>\n",
       "    .dataframe tbody tr th:only-of-type {\n",
       "        vertical-align: middle;\n",
       "    }\n",
       "\n",
       "    .dataframe tbody tr th {\n",
       "        vertical-align: top;\n",
       "    }\n",
       "\n",
       "    .dataframe thead th {\n",
       "        text-align: right;\n",
       "    }\n",
       "</style>\n",
       "<table border=\"1\" class=\"dataframe\">\n",
       "  <thead>\n",
       "    <tr style=\"text-align: right;\">\n",
       "      <th></th>\n",
       "      <th>Predicted Negative</th>\n",
       "      <th>Predicted Positive</th>\n",
       "    </tr>\n",
       "  </thead>\n",
       "  <tbody>\n",
       "    <tr>\n",
       "      <th>Actual Negative</th>\n",
       "      <td>147</td>\n",
       "      <td>7</td>\n",
       "    </tr>\n",
       "    <tr>\n",
       "      <th>Actual Positive</th>\n",
       "      <td>11</td>\n",
       "      <td>141</td>\n",
       "    </tr>\n",
       "  </tbody>\n",
       "</table>\n",
       "</div>"
      ],
      "text/plain": [
       "                 Predicted Negative  Predicted Positive\n",
       "Actual Negative                 147                   7\n",
       "Actual Positive                  11                 141"
      ]
     },
     "execution_count": 73,
     "metadata": {},
     "output_type": "execute_result"
    }
   ],
   "source": [
    "# Confusion matrix for Logistic Regression using count vectorization\n",
    "confusion_matrix_df(logreg_gs1_pkl.predict(X_testing_cleaned), test=y_testing)"
   ]
  },
  {
   "cell_type": "code",
   "execution_count": 74,
   "metadata": {},
   "outputs": [
    {
     "name": "stdout",
     "output_type": "stream",
     "text": [
      "Specificity 0.9155844155844156\n",
      "Precision: 0.9166666666666666\n",
      "Sensitivity/Recall: 0.9407894736842105\n",
      "f1-score: 0.9285714285714286\n"
     ]
    },
    {
     "data": {
      "text/html": [
       "<div>\n",
       "<style scoped>\n",
       "    .dataframe tbody tr th:only-of-type {\n",
       "        vertical-align: middle;\n",
       "    }\n",
       "\n",
       "    .dataframe tbody tr th {\n",
       "        vertical-align: top;\n",
       "    }\n",
       "\n",
       "    .dataframe thead th {\n",
       "        text-align: right;\n",
       "    }\n",
       "</style>\n",
       "<table border=\"1\" class=\"dataframe\">\n",
       "  <thead>\n",
       "    <tr style=\"text-align: right;\">\n",
       "      <th></th>\n",
       "      <th>Predicted Negative</th>\n",
       "      <th>Predicted Positive</th>\n",
       "    </tr>\n",
       "  </thead>\n",
       "  <tbody>\n",
       "    <tr>\n",
       "      <th>Actual Negative</th>\n",
       "      <td>141</td>\n",
       "      <td>13</td>\n",
       "    </tr>\n",
       "    <tr>\n",
       "      <th>Actual Positive</th>\n",
       "      <td>9</td>\n",
       "      <td>143</td>\n",
       "    </tr>\n",
       "  </tbody>\n",
       "</table>\n",
       "</div>"
      ],
      "text/plain": [
       "                 Predicted Negative  Predicted Positive\n",
       "Actual Negative                 141                  13\n",
       "Actual Positive                   9                 143"
      ]
     },
     "execution_count": 74,
     "metadata": {},
     "output_type": "execute_result"
    }
   ],
   "source": [
    "# Confusion matrix for Logistic Regression using tfidf\n",
    "confusion_matrix_df(logreg_gs2_pkl.predict(X_testing_cleaned), test=y_testing)"
   ]
  },
  {
   "cell_type": "markdown",
   "metadata": {},
   "source": [
    "- Using Logistic Regression, the problem of overfitting seems to be a bigger issue compared to Naive-Bayes.\n",
    "- As discussed at the start of the modelling section, Naive-Bayes reaches the asymptotic solution faster. The fact that the Logistic Regression models constructed in this project seem to be weaker in generalizing to unseen data suggests that the sample size is too small. \n",
    "- A way to improve the Logistic Regression models would be to scrape more posts from the 2 subreddits.\n",
    "- However, since the Naive-Bayes model using count vectorization seem to be performing to a relatively high level, it was decided that this model would be used to see if predictions could be made accurately on the test dataset."
   ]
  },
  {
   "cell_type": "markdown",
   "metadata": {},
   "source": [
    "# Model Prediction on test dataset"
   ]
  },
  {
   "cell_type": "markdown",
   "metadata": {},
   "source": [
    "- As discussed, the most important metric for this project is chosen to be accuracy.\n",
    "- However, some of the models constructed seem to overfit to the training data.\n",
    "- As the accuracy scores are roughly similar (all above 0.90), the model which seems to be the least overfit will be used.\n",
    "- Model **nb_gs1_pkl** (Count vectorization with Naive-Bayes) will be used to make predictions, as it consistently scored 0.95 between the training and testing sets."
   ]
  },
  {
   "cell_type": "code",
   "execution_count": 75,
   "metadata": {},
   "outputs": [],
   "source": [
    "# Clean the posts in test dataset\n",
    "test_cleaned = cleaned_posts(test['selftext'])"
   ]
  },
  {
   "cell_type": "code",
   "execution_count": 76,
   "metadata": {},
   "outputs": [
    {
     "name": "stderr",
     "output_type": "stream",
     "text": [
      "C:\\Users\\Pat\\Anaconda3\\lib\\site-packages\\ipykernel_launcher.py:3: SettingWithCopyWarning: \n",
      "A value is trying to be set on a copy of a slice from a DataFrame.\n",
      "Try using .loc[row_indexer,col_indexer] = value instead\n",
      "\n",
      "See the caveats in the documentation: http://pandas.pydata.org/pandas-docs/stable/indexing.html#indexing-view-versus-copy\n",
      "  This is separate from the ipykernel package so we can avoid doing imports until\n"
     ]
    }
   ],
   "source": [
    "# Use logreg_gs1_pkl to make predictions on test_cleaned\n",
    "# Output results to test['preds'] column\n",
    "test['preds'] = pd.DataFrame(nb_gs1_pkl.predict(test_cleaned))"
   ]
  },
  {
   "cell_type": "code",
   "execution_count": 77,
   "metadata": {},
   "outputs": [
    {
     "data": {
      "text/html": [
       "<div>\n",
       "<style scoped>\n",
       "    .dataframe tbody tr th:only-of-type {\n",
       "        vertical-align: middle;\n",
       "    }\n",
       "\n",
       "    .dataframe tbody tr th {\n",
       "        vertical-align: top;\n",
       "    }\n",
       "\n",
       "    .dataframe thead th {\n",
       "        text-align: right;\n",
       "    }\n",
       "</style>\n",
       "<table border=\"1\" class=\"dataframe\">\n",
       "  <thead>\n",
       "    <tr style=\"text-align: right;\">\n",
       "      <th></th>\n",
       "      <th>title</th>\n",
       "      <th>selftext</th>\n",
       "      <th>subreddit</th>\n",
       "      <th>nosleep</th>\n",
       "      <th>preds</th>\n",
       "    </tr>\n",
       "  </thead>\n",
       "  <tbody>\n",
       "    <tr>\n",
       "      <th>0</th>\n",
       "      <td>The problem with my new apartment</td>\n",
       "      <td>I’ve never been a clean freak per-say. I jus...</td>\n",
       "      <td>nosleep</td>\n",
       "      <td>1</td>\n",
       "      <td>1</td>\n",
       "    </tr>\n",
       "    <tr>\n",
       "      <th>1</th>\n",
       "      <td>I fight ancient beings and I have some stories...</td>\n",
       "      <td>\\n\\n[Part 1](https://www.reddit.com/r/nosleep...</td>\n",
       "      <td>nosleep</td>\n",
       "      <td>1</td>\n",
       "      <td>0</td>\n",
       "    </tr>\n",
       "    <tr>\n",
       "      <th>2</th>\n",
       "      <td>The Earthlings (Part 1)</td>\n",
       "      <td>I was poor. Hella poor. Like, I'm a guy in a 4...</td>\n",
       "      <td>nosleep</td>\n",
       "      <td>1</td>\n",
       "      <td>0</td>\n",
       "    </tr>\n",
       "    <tr>\n",
       "      <th>3</th>\n",
       "      <td>The Halloween Assignment</td>\n",
       "      <td>I am hyper-sexual from the time I learnt about...</td>\n",
       "      <td>nosleep</td>\n",
       "      <td>1</td>\n",
       "      <td>1</td>\n",
       "    </tr>\n",
       "    <tr>\n",
       "      <th>4</th>\n",
       "      <td>Our House</td>\n",
       "      <td>Let this remain here when I’m gone. Let this b...</td>\n",
       "      <td>nosleep</td>\n",
       "      <td>1</td>\n",
       "      <td>1</td>\n",
       "    </tr>\n",
       "  </tbody>\n",
       "</table>\n",
       "</div>"
      ],
      "text/plain": [
       "                                               title  \\\n",
       "0                  The problem with my new apartment   \n",
       "1  I fight ancient beings and I have some stories...   \n",
       "2                            The Earthlings (Part 1)   \n",
       "3                           The Halloween Assignment   \n",
       "4                                          Our House   \n",
       "\n",
       "                                            selftext subreddit  nosleep  preds  \n",
       "0    I’ve never been a clean freak per-say. I jus...   nosleep        1      1  \n",
       "1   \\n\\n[Part 1](https://www.reddit.com/r/nosleep...   nosleep        1      0  \n",
       "2  I was poor. Hella poor. Like, I'm a guy in a 4...   nosleep        1      0  \n",
       "3  I am hyper-sexual from the time I learnt about...   nosleep        1      1  \n",
       "4  Let this remain here when I’m gone. Let this b...   nosleep        1      1  "
      ]
     },
     "execution_count": 77,
     "metadata": {},
     "output_type": "execute_result"
    }
   ],
   "source": [
    "test.head()"
   ]
  },
  {
   "cell_type": "code",
   "execution_count": 78,
   "metadata": {},
   "outputs": [
    {
     "name": "stdout",
     "output_type": "stream",
     "text": [
      "The accuracy score for the predictions made on test dataset: 0.9484029484029484\n"
     ]
    }
   ],
   "source": [
    "print('The accuracy score for the predictions made on test dataset:', nb_gs1_pkl.score(test['selftext'], test['nosleep']))"
   ]
  },
  {
   "cell_type": "code",
   "execution_count": 79,
   "metadata": {},
   "outputs": [
    {
     "name": "stdout",
     "output_type": "stream",
     "text": [
      "Specificity 0.8975609756097561\n",
      "Precision: 0.9023255813953488\n",
      "Sensitivity/Recall: 0.9603960396039604\n",
      "f1-score: 0.9304556354916067\n"
     ]
    },
    {
     "data": {
      "text/html": [
       "<div>\n",
       "<style scoped>\n",
       "    .dataframe tbody tr th:only-of-type {\n",
       "        vertical-align: middle;\n",
       "    }\n",
       "\n",
       "    .dataframe tbody tr th {\n",
       "        vertical-align: top;\n",
       "    }\n",
       "\n",
       "    .dataframe thead th {\n",
       "        text-align: right;\n",
       "    }\n",
       "</style>\n",
       "<table border=\"1\" class=\"dataframe\">\n",
       "  <thead>\n",
       "    <tr style=\"text-align: right;\">\n",
       "      <th></th>\n",
       "      <th>Predicted Negative</th>\n",
       "      <th>Predicted Positive</th>\n",
       "    </tr>\n",
       "  </thead>\n",
       "  <tbody>\n",
       "    <tr>\n",
       "      <th>Actual Negative</th>\n",
       "      <td>184</td>\n",
       "      <td>21</td>\n",
       "    </tr>\n",
       "    <tr>\n",
       "      <th>Actual Positive</th>\n",
       "      <td>8</td>\n",
       "      <td>194</td>\n",
       "    </tr>\n",
       "  </tbody>\n",
       "</table>\n",
       "</div>"
      ],
      "text/plain": [
       "                 Predicted Negative  Predicted Positive\n",
       "Actual Negative                 184                  21\n",
       "Actual Positive                   8                 194"
      ]
     },
     "execution_count": 79,
     "metadata": {},
     "output_type": "execute_result"
    }
   ],
   "source": [
    "confusion_matrix_df(nb_gs1_pkl.predict(test_cleaned), test=test['nosleep'])"
   ]
  },
  {
   "cell_type": "markdown",
   "metadata": {},
   "source": [
    "- The accuracy score for the predictions using a count vectorization word-embedding method followed by Multi-nomial Naive-Bayes is 0.95, which actually is a (very slight) improvement on the accuracy score for the testing set.\n",
    "- It can be concluded that model **nb_gs1_pkl** is the most superior in terms of ability to generalise to unseen data.\n",
    "- Furthermore, the accuracy of the model's predictions is very high."
   ]
  },
  {
   "cell_type": "markdown",
   "metadata": {},
   "source": [
    "# Conclusion"
   ]
  },
  {
   "cell_type": "markdown",
   "metadata": {},
   "source": [
    "- The selected model (nb_gs1_pkl) which uses count vectorization and a naive-bayes model achieved consistently good accuracy scores.\n",
    "    - Suggests the model does not overfit to the training data and can be generalised to real-world unseen data.\n",
    "    - For any posters to r/nosleep or r/HFY, there is a high degree of reliability (~ 95%) that the model can correctly classify into which subreddit the post belongs, in case the posts have initially been misclassified, even in the absence of any titles/words giving away the subreddit.\n",
    "- Overfitting seemed to be an issue when it came to modelling with Logistic Regression.\n",
    "    - A comparison between Naive-Bayes and Logistic Regression was given, with a possible reason for the overfitting attributed to insufficient number of samples.\n",
    "\n",
    "\n",
    "- **Limitations**:\n",
    "    - For subreddits with highly similar topics, the accuracy will likely be too low to make the constructed model useful in practical scenarios.\n",
    "        - i.e., the models constructed in this project probably cannot pick up on nuances and context that a typical human can use to discern between 2 similar topics.\n",
    "    - The best model chosen in this project (Naive-Bayes with count vectorization) is appropriate for problems with relatively small sample size.\n",
    "        - However, if sample size were to tend to infinity (i.e. very large datasets), Logistic Regression might be a better choice assuming the problem is still a binary classification problem.\n",
    "        - This is due to the inherent erroneous assumption for Naive-Bayes, that all features are independent of each other.\n",
    "    - The 'bag-of-words' methodology used in this project creates sparse matrices from word embedding methods (count vectorization & tf-idf vectorization)\n",
    "        - Sparse matrices represent a problem for other classification models such as KNN, since there are no distinct clustering of features.\n",
    "        \n",
    "        \n",
    "- **Possible further work**:\n",
    "    - Move outside the 'bag-of-words' (BoW) methodology as context is not considered at all.\n",
    "        - Explore effectiveness of Neural Networks as a possible (better) alternative to BoW.\n",
    "    - Expand this problem from a binary classification problem to a multi-class classification problem (i.e. classifying posts that could belong to any of more than 2 subreddits)\n",
    "        - This may prove difficult, but is a lot more practical in real world usage. "
   ]
  }
 ],
 "metadata": {
  "kernelspec": {
   "display_name": "Python 3",
   "language": "python",
   "name": "python3"
  },
  "language_info": {
   "codemirror_mode": {
    "name": "ipython",
    "version": 3
   },
   "file_extension": ".py",
   "mimetype": "text/x-python",
   "name": "python",
   "nbconvert_exporter": "python",
   "pygments_lexer": "ipython3",
   "version": "3.7.3"
  }
 },
 "nbformat": 4,
 "nbformat_minor": 2
}
